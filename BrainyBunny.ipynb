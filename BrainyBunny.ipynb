{
 "cells": [
  {
   "cell_type": "code",
   "execution_count": 1,
   "metadata": {},
   "outputs": [
    {
     "name": "stdout",
     "output_type": "stream",
     "text": [
      "[]\n",
      "[]\n"
     ]
    }
   ],
   "source": [
    "#used to find specific folders in directory\n",
    "import glob, os\n",
    "import random\n",
    "import PIL\n",
    "from PIL import Image\n",
    "#os.chdir(\"/Users/rishabharora/BRAINY BUNNY\")\n",
    "test = []\n",
    "for i in glob.glob(\"as_differentiation_l1_*.png\"):\n",
    "    test.append(i)\n",
    "    #print(test)\n",
    "\n",
    "files_qp = list(glob.glob(os.path.join('as_differentiation_l1_qp*.png')))\n",
    "print (files_qp)\n",
    "\n",
    "files_ms = list(glob.glob(os.path.join('as_differentiation_l1_ms*.png')))\n",
    "print (files_ms)"
   ]
  },
  {
   "cell_type": "code",
   "execution_count": 2,
   "metadata": {},
   "outputs": [
    {
     "ename": "IndexError",
     "evalue": "Cannot choose from an empty sequence",
     "output_type": "error",
     "traceback": [
      "\u001b[0;31m---------------------------------------------------------------------------\u001b[0m",
      "\u001b[0;31mIndexError\u001b[0m                                Traceback (most recent call last)",
      "\u001b[0;32m<ipython-input-2-7c371ac3495d>\u001b[0m in \u001b[0;36m<module>\u001b[0;34m\u001b[0m\n\u001b[1;32m      6\u001b[0m \u001b[0ml1_files_algebra_qp\u001b[0m \u001b[0;34m=\u001b[0m \u001b[0msorted\u001b[0m\u001b[0;34m(\u001b[0m\u001b[0mlist\u001b[0m\u001b[0;34m(\u001b[0m\u001b[0mglob\u001b[0m\u001b[0;34m.\u001b[0m\u001b[0mglob\u001b[0m\u001b[0;34m(\u001b[0m\u001b[0mos\u001b[0m\u001b[0;34m.\u001b[0m\u001b[0mpath\u001b[0m\u001b[0;34m.\u001b[0m\u001b[0mjoin\u001b[0m\u001b[0;34m(\u001b[0m\u001b[0;34m'as_c1_algebra_l1_qp*.png'\u001b[0m\u001b[0;34m)\u001b[0m\u001b[0;34m)\u001b[0m\u001b[0;34m)\u001b[0m\u001b[0;34m)\u001b[0m\u001b[0;34m\u001b[0m\u001b[0;34m\u001b[0m\u001b[0m\n\u001b[1;32m      7\u001b[0m \u001b[0;31m#print (sorted((l1_files_algebra_qp)))\u001b[0m\u001b[0;34m\u001b[0m\u001b[0;34m\u001b[0m\u001b[0;34m\u001b[0m\u001b[0m\n\u001b[0;32m----> 8\u001b[0;31m \u001b[0ml1qp\u001b[0m \u001b[0;34m=\u001b[0m \u001b[0;34m[\u001b[0m\u001b[0mrandom\u001b[0m\u001b[0;34m.\u001b[0m\u001b[0mchoice\u001b[0m\u001b[0;34m(\u001b[0m\u001b[0ml1_files_algebra_qp\u001b[0m\u001b[0;34m)\u001b[0m\u001b[0;34m]\u001b[0m\u001b[0;34m\u001b[0m\u001b[0;34m\u001b[0m\u001b[0m\n\u001b[0m\u001b[1;32m      9\u001b[0m \u001b[0;31m#print (l1qp)\u001b[0m\u001b[0;34m\u001b[0m\u001b[0;34m\u001b[0m\u001b[0;34m\u001b[0m\u001b[0m\n\u001b[1;32m     10\u001b[0m \u001b[0ml1ms_pos\u001b[0m \u001b[0;34m=\u001b[0m \u001b[0ml1_files_algebra_qp\u001b[0m\u001b[0;34m.\u001b[0m\u001b[0mindex\u001b[0m\u001b[0;34m(\u001b[0m\u001b[0mrandom\u001b[0m\u001b[0;34m.\u001b[0m\u001b[0mchoice\u001b[0m\u001b[0;34m(\u001b[0m\u001b[0ml1qp\u001b[0m\u001b[0;34m)\u001b[0m\u001b[0;34m)\u001b[0m\u001b[0;34m\u001b[0m\u001b[0;34m\u001b[0m\u001b[0m\n",
      "\u001b[0;32m~/opt/anaconda3/lib/python3.7/random.py\u001b[0m in \u001b[0;36mchoice\u001b[0;34m(self, seq)\u001b[0m\n\u001b[1;32m    259\u001b[0m             \u001b[0mi\u001b[0m \u001b[0;34m=\u001b[0m \u001b[0mself\u001b[0m\u001b[0;34m.\u001b[0m\u001b[0m_randbelow\u001b[0m\u001b[0;34m(\u001b[0m\u001b[0mlen\u001b[0m\u001b[0;34m(\u001b[0m\u001b[0mseq\u001b[0m\u001b[0;34m)\u001b[0m\u001b[0;34m)\u001b[0m\u001b[0;34m\u001b[0m\u001b[0;34m\u001b[0m\u001b[0m\n\u001b[1;32m    260\u001b[0m         \u001b[0;32mexcept\u001b[0m \u001b[0mValueError\u001b[0m\u001b[0;34m:\u001b[0m\u001b[0;34m\u001b[0m\u001b[0;34m\u001b[0m\u001b[0m\n\u001b[0;32m--> 261\u001b[0;31m             \u001b[0;32mraise\u001b[0m \u001b[0mIndexError\u001b[0m\u001b[0;34m(\u001b[0m\u001b[0;34m'Cannot choose from an empty sequence'\u001b[0m\u001b[0;34m)\u001b[0m \u001b[0;32mfrom\u001b[0m \u001b[0;32mNone\u001b[0m\u001b[0;34m\u001b[0m\u001b[0;34m\u001b[0m\u001b[0m\n\u001b[0m\u001b[1;32m    262\u001b[0m         \u001b[0;32mreturn\u001b[0m \u001b[0mseq\u001b[0m\u001b[0;34m[\u001b[0m\u001b[0mi\u001b[0m\u001b[0;34m]\u001b[0m\u001b[0;34m\u001b[0m\u001b[0;34m\u001b[0m\u001b[0m\n\u001b[1;32m    263\u001b[0m \u001b[0;34m\u001b[0m\u001b[0m\n",
      "\u001b[0;31mIndexError\u001b[0m: Cannot choose from an empty sequence"
     ]
    }
   ],
   "source": [
    "#find place of random element L1 QP\n",
    "\n",
    "#QP\n",
    "import random\n",
    "\n",
    "l1_files_algebra_qp = sorted(list(glob.glob(os.path.join('as_c1_algebra_l1_qp*.png'))))\n",
    "#print (sorted((l1_files_algebra_qp)))\n",
    "l1qp = [random.choice(l1_files_algebra_qp)]\n",
    "#print (l1qp)\n",
    "l1ms_pos = l1_files_algebra_qp.index(random.choice(l1qp))\n",
    "#print(l1ms_pos)\n",
    "\n",
    "l2_files_algebra_qp = sorted(list(glob.glob(os.path.join('as_c1_algebra_l2_qp*.png'))))\n",
    "#print (sorted((l2_files_algebra_qp)))\n",
    "l2qp = [random.choice(l2_files_algebra_qp)]\n",
    "#print (l2qp)\n",
    "l2ms_pos = l2_files_algebra_qp.index(random.choice(l2qp))\n",
    "#print(l1ms_pos)\n",
    "\n",
    "l3_files_algebra_qp = sorted(list(glob.glob(os.path.join('as_c1_algebra_l3_qp*.png'))))\n",
    "#print (sorted((l3_files_algebra_qp)))\n",
    "l3qp = [random.choice(l3_files_algebra_qp)]\n",
    "#print (l3qp)\n",
    "l3ms_pos = l3_files_algebra_qp.index(random.choice(l3qp))\n",
    "#print(l1ms_pos)\n",
    "\n",
    "l4_files_algebra_qp = sorted(list(glob.glob(os.path.join('as_c1_algebra_l4_qp*.png'))))\n",
    "#print (sorted((l4_files_algebra_qp)))\n",
    "l4qp = [random.choice(l4_files_algebra_qp)]\n",
    "#print (l4qp)\n",
    "l4ms_pos = l4_files_algebra_qp.index(random.choice(l4qp))\n",
    "#print(l1ms_pos)\n",
    "\n",
    "algebra_QP = l1qp + l2qp + l3qp + l4qp\n",
    "print (algebra_QP)\n",
    "\n",
    "#MS\n",
    "l1_files_algebra_ms = sorted(list(glob.glob(os.path.join('as_c1_algebra_l1_ms*.png'))))\n",
    "l1ms = [l1_files_algebra_ms[l1ms_pos]]\n",
    "#print (l1ms)\n",
    "\n",
    "l2_files_algebra_ms = sorted(list(glob.glob(os.path.join('as_c1_algebra_l2_ms*.png'))))\n",
    "l2ms = [l2_files_algebra_ms[l2ms_pos]]\n",
    "#print (l2ms)\n",
    "\n",
    "l3_files_algebra_ms = sorted(list(glob.glob(os.path.join('as_c1_algebra_l3_ms*.png'))))\n",
    "l3ms = [l3_files_algebra_ms[l3ms_pos]]\n",
    "#print (l3ms)\n",
    "\n",
    "l4_files_algebra_ms = sorted(list(glob.glob(os.path.join('as_c1_algebra_l4_ms*.png'))))\n",
    "l4ms = [l4_files_algebra_ms[l4ms_pos]]\n",
    "#print (l3ms)\n",
    "\n",
    "algebra_MS = l1ms + l2ms + l3ms + l4ms\n",
    "print (algebra_MS)"
   ]
  },
  {
   "cell_type": "code",
   "execution_count": 3,
   "metadata": {},
   "outputs": [
    {
     "ename": "NameError",
     "evalue": "name 'PDF' is not defined",
     "output_type": "error",
     "traceback": [
      "\u001b[0;31m---------------------------------------------------------------------------\u001b[0m",
      "\u001b[0;31mNameError\u001b[0m                                 Traceback (most recent call last)",
      "\u001b[0;32m<ipython-input-3-c74c2ee907ef>\u001b[0m in \u001b[0;36m<module>\u001b[0;34m\u001b[0m\n\u001b[1;32m      5\u001b[0m \u001b[0malgebra_QP\u001b[0m \u001b[0;34m=\u001b[0m \u001b[0;34m[\u001b[0m\u001b[0;34m'as_c1_algebra_l1_qp1.png'\u001b[0m\u001b[0;34m,\u001b[0m \u001b[0;34m'as_c1_algebra_l2_qp1.png'\u001b[0m\u001b[0;34m]\u001b[0m\u001b[0;34m\u001b[0m\u001b[0;34m\u001b[0m\u001b[0m\n\u001b[1;32m      6\u001b[0m \u001b[0;34m\u001b[0m\u001b[0m\n\u001b[0;32m----> 7\u001b[0;31m \u001b[0;32mclass\u001b[0m \u001b[0mPDF\u001b[0m\u001b[0;34m(\u001b[0m\u001b[0mFPDF\u001b[0m\u001b[0;34m)\u001b[0m\u001b[0;34m:\u001b[0m\u001b[0;34m\u001b[0m\u001b[0;34m\u001b[0m\u001b[0m\n\u001b[0m\u001b[1;32m      8\u001b[0m     \u001b[0;32mdef\u001b[0m \u001b[0mheader\u001b[0m\u001b[0;34m(\u001b[0m\u001b[0mself\u001b[0m\u001b[0;34m)\u001b[0m\u001b[0;34m:\u001b[0m\u001b[0;34m\u001b[0m\u001b[0;34m\u001b[0m\u001b[0m\n\u001b[1;32m      9\u001b[0m         \u001b[0;31m# Logo\u001b[0m\u001b[0;34m\u001b[0m\u001b[0;34m\u001b[0m\u001b[0;34m\u001b[0m\u001b[0m\n",
      "\u001b[0;32m<ipython-input-3-c74c2ee907ef>\u001b[0m in \u001b[0;36mPDF\u001b[0;34m()\u001b[0m\n\u001b[1;32m     27\u001b[0m         \u001b[0mself\u001b[0m\u001b[0;34m.\u001b[0m\u001b[0mcell\u001b[0m\u001b[0;34m(\u001b[0m\u001b[0;36m0\u001b[0m\u001b[0;34m,\u001b[0m \u001b[0;36m10\u001b[0m\u001b[0;34m,\u001b[0m \u001b[0;34m'Page '\u001b[0m \u001b[0;34m+\u001b[0m \u001b[0mstr\u001b[0m\u001b[0;34m(\u001b[0m\u001b[0mself\u001b[0m\u001b[0;34m.\u001b[0m\u001b[0mpage_no\u001b[0m\u001b[0;34m(\u001b[0m\u001b[0;34m)\u001b[0m\u001b[0;34m)\u001b[0m\u001b[0;34m,\u001b[0m \u001b[0;36m0\u001b[0m\u001b[0;34m,\u001b[0m \u001b[0;36m0\u001b[0m\u001b[0;34m,\u001b[0m \u001b[0;34m'C'\u001b[0m\u001b[0;34m)\u001b[0m\u001b[0;34m\u001b[0m\u001b[0;34m\u001b[0m\u001b[0m\n\u001b[1;32m     28\u001b[0m \u001b[0;34m\u001b[0m\u001b[0m\n\u001b[0;32m---> 29\u001b[0;31m     \u001b[0mpdf\u001b[0m \u001b[0;34m=\u001b[0m \u001b[0mPDF\u001b[0m\u001b[0;34m(\u001b[0m\u001b[0;34m)\u001b[0m\u001b[0;34m\u001b[0m\u001b[0;34m\u001b[0m\u001b[0m\n\u001b[0m\u001b[1;32m     30\u001b[0m \u001b[0;34m\u001b[0m\u001b[0m\n\u001b[1;32m     31\u001b[0m     \u001b[0;32mfor\u001b[0m \u001b[0mi\u001b[0m \u001b[0;32min\u001b[0m \u001b[0malgebra_QP\u001b[0m\u001b[0;34m:\u001b[0m\u001b[0;34m\u001b[0m\u001b[0;34m\u001b[0m\u001b[0m\n",
      "\u001b[0;31mNameError\u001b[0m: name 'PDF' is not defined"
     ]
    }
   ],
   "source": [
    "#Create QP and MS based on files_qp and files_ms above\n",
    "from fpdf import FPDF\n",
    "from IPython.display import Image\n",
    "\n",
    "algebra_QP = ['as_c1_algebra_l1_qp1.png', 'as_c1_algebra_l2_qp1.png']\n",
    "\n",
    "class PDF(FPDF):\n",
    "    def header(self):\n",
    "        # Logo\n",
    "        self.image('logo.jpg', 10, 6, 33)\n",
    "        # Arial bold 15\n",
    "        self.set_font('Arial', 'B', 15)\n",
    "        # Move to the right\n",
    "        self.cell(80)\n",
    "        # Title\n",
    "        self.cell(45, 20, 'Brainy Bunny', 1, 0, 'C')\n",
    "        # Line break\n",
    "        self.ln(40)\n",
    "\n",
    "    # Page footer\n",
    "    def footer(self):\n",
    "        # Position at 1.5 cm from bottom\n",
    "        self.set_y(-15)\n",
    "        # Arial italic 8\n",
    "        self.set_font('Arial', 'I', 8)\n",
    "        # Page number\n",
    "        self.cell(0, 10, 'Page ' + str(self.page_no()), 0, 0, 'C')\n",
    "        \n",
    "    pdf = PDF()\n",
    "\n",
    "    for i in algebra_QP:\n",
    "        pdf.add_page()\n",
    "        pdf.image(i)\n",
    "    pdf.output('Algebra_QP.pdf', 'F')\n",
    "\n",
    "pdf = FPDF()"
   ]
  },
  {
   "cell_type": "code",
   "execution_count": 4,
   "metadata": {},
   "outputs": [
    {
     "ename": "FileNotFoundError",
     "evalue": "[Errno 2] No such file or directory: 'as_c1_algebra_l4_qp1.png'",
     "output_type": "error",
     "traceback": [
      "\u001b[0;31m---------------------------------------------------------------------------\u001b[0m",
      "\u001b[0;31mFileNotFoundError\u001b[0m                         Traceback (most recent call last)",
      "\u001b[0;32m<ipython-input-4-ea0b8b59adf0>\u001b[0m in \u001b[0;36m<module>\u001b[0;34m\u001b[0m\n\u001b[1;32m      7\u001b[0m \u001b[0;34m\u001b[0m\u001b[0m\n\u001b[1;32m      8\u001b[0m \u001b[0mx\u001b[0m \u001b[0;34m=\u001b[0m \u001b[0;34m'as_c1_algebra_l4_qp1.png'\u001b[0m\u001b[0;34m\u001b[0m\u001b[0;34m\u001b[0m\u001b[0m\n\u001b[0;32m----> 9\u001b[0;31m \u001b[0mimg\u001b[0m \u001b[0;34m=\u001b[0m \u001b[0mImage\u001b[0m\u001b[0;34m.\u001b[0m\u001b[0mopen\u001b[0m\u001b[0;34m(\u001b[0m\u001b[0mx\u001b[0m\u001b[0;34m)\u001b[0m\u001b[0;34m\u001b[0m\u001b[0;34m\u001b[0m\u001b[0m\n\u001b[0m\u001b[1;32m     10\u001b[0m \u001b[0;34m\u001b[0m\u001b[0m\n\u001b[1;32m     11\u001b[0m \u001b[0mwpercent\u001b[0m \u001b[0;34m=\u001b[0m \u001b[0;34m(\u001b[0m\u001b[0mbasewidth\u001b[0m \u001b[0;34m/\u001b[0m \u001b[0mfloat\u001b[0m\u001b[0;34m(\u001b[0m\u001b[0mimg\u001b[0m\u001b[0;34m.\u001b[0m\u001b[0msize\u001b[0m\u001b[0;34m[\u001b[0m\u001b[0;36m0\u001b[0m\u001b[0;34m]\u001b[0m\u001b[0;34m)\u001b[0m\u001b[0;34m)\u001b[0m\u001b[0;34m\u001b[0m\u001b[0;34m\u001b[0m\u001b[0m\n",
      "\u001b[0;32m~/opt/anaconda3/lib/python3.7/site-packages/PIL/Image.py\u001b[0m in \u001b[0;36mopen\u001b[0;34m(fp, mode)\u001b[0m\n\u001b[1;32m   2807\u001b[0m \u001b[0;34m\u001b[0m\u001b[0m\n\u001b[1;32m   2808\u001b[0m     \u001b[0;32mif\u001b[0m \u001b[0mfilename\u001b[0m\u001b[0;34m:\u001b[0m\u001b[0;34m\u001b[0m\u001b[0;34m\u001b[0m\u001b[0m\n\u001b[0;32m-> 2809\u001b[0;31m         \u001b[0mfp\u001b[0m \u001b[0;34m=\u001b[0m \u001b[0mbuiltins\u001b[0m\u001b[0;34m.\u001b[0m\u001b[0mopen\u001b[0m\u001b[0;34m(\u001b[0m\u001b[0mfilename\u001b[0m\u001b[0;34m,\u001b[0m \u001b[0;34m\"rb\"\u001b[0m\u001b[0;34m)\u001b[0m\u001b[0;34m\u001b[0m\u001b[0;34m\u001b[0m\u001b[0m\n\u001b[0m\u001b[1;32m   2810\u001b[0m         \u001b[0mexclusive_fp\u001b[0m \u001b[0;34m=\u001b[0m \u001b[0;32mTrue\u001b[0m\u001b[0;34m\u001b[0m\u001b[0;34m\u001b[0m\u001b[0m\n\u001b[1;32m   2811\u001b[0m \u001b[0;34m\u001b[0m\u001b[0m\n",
      "\u001b[0;31mFileNotFoundError\u001b[0m: [Errno 2] No such file or directory: 'as_c1_algebra_l4_qp1.png'"
     ]
    }
   ],
   "source": [
    "#Resize and clarify\n",
    "\n",
    "import PIL\n",
    "from PIL import Image\n",
    "\n",
    "basewidth = 490\n",
    "\n",
    "x = 'as_c1_algebra_l4_qp1.png'\n",
    "img = Image.open(x)\n",
    "\n",
    "wpercent = (basewidth / float(img.size[0]))\n",
    "hsize = int((float(img.size[1]) * float(wpercent)))\n",
    "img = img.resize((basewidth, hsize), PIL.Image.ANTIALIAS)\n",
    "img.save(\"xxx\" + \".png\")\n",
    "\n",
    "tas = ['xxx.png']\n",
    "\n",
    "from PIL import Image, ImageEnhance \n",
    "\n",
    "im = Image.open(\"xxx.png\")\n",
    "enhancer = ImageEnhance.Sharpness(im)\n",
    "enhanced_im = enhancer.enhance(10.0)\n",
    "enhanced_im.save(\"enhanced.sample3.png\")\n",
    "\n",
    "tas2 = ['enhanced.sample3.png']"
   ]
  },
  {
   "cell_type": "code",
   "execution_count": 5,
   "metadata": {},
   "outputs": [
    {
     "ename": "ValueError",
     "evalue": "Sample larger than population or is negative",
     "output_type": "error",
     "traceback": [
      "\u001b[0;31m---------------------------------------------------------------------------\u001b[0m",
      "\u001b[0;31mValueError\u001b[0m                                Traceback (most recent call last)",
      "\u001b[0;32m<ipython-input-5-d611a1440c96>\u001b[0m in \u001b[0;36m<module>\u001b[0;34m\u001b[0m\n\u001b[1;32m     14\u001b[0m \u001b[0ml1qp\u001b[0m \u001b[0;34m=\u001b[0m \u001b[0;34m[\u001b[0m\u001b[0mrandom\u001b[0m\u001b[0;34m.\u001b[0m\u001b[0msample\u001b[0m\u001b[0;34m(\u001b[0m\u001b[0ml1_qp\u001b[0m\u001b[0;34m,\u001b[0m\u001b[0;36m3\u001b[0m\u001b[0;34m)\u001b[0m\u001b[0;34m]\u001b[0m\u001b[0;34m\u001b[0m\u001b[0;34m\u001b[0m\u001b[0m\n\u001b[1;32m     15\u001b[0m \u001b[0;31m#print (l1qp)\u001b[0m\u001b[0;34m\u001b[0m\u001b[0;34m\u001b[0m\u001b[0;34m\u001b[0m\u001b[0m\n\u001b[0;32m---> 16\u001b[0;31m \u001b[0ml1ms_pos\u001b[0m \u001b[0;34m=\u001b[0m \u001b[0ml1_qp\u001b[0m\u001b[0;34m.\u001b[0m\u001b[0mindex\u001b[0m\u001b[0;34m(\u001b[0m\u001b[0mrandom\u001b[0m\u001b[0;34m.\u001b[0m\u001b[0msample\u001b[0m\u001b[0;34m(\u001b[0m\u001b[0ml1qp\u001b[0m\u001b[0;34m,\u001b[0m\u001b[0;36m3\u001b[0m\u001b[0;34m)\u001b[0m\u001b[0;34m)\u001b[0m\u001b[0;34m\u001b[0m\u001b[0;34m\u001b[0m\u001b[0m\n\u001b[0m\u001b[1;32m     17\u001b[0m \u001b[0;31m#print(l1ms_pos)\u001b[0m\u001b[0;34m\u001b[0m\u001b[0;34m\u001b[0m\u001b[0;34m\u001b[0m\u001b[0m\n\u001b[1;32m     18\u001b[0m \u001b[0;34m\u001b[0m\u001b[0m\n",
      "\u001b[0;32m~/opt/anaconda3/lib/python3.7/random.py\u001b[0m in \u001b[0;36msample\u001b[0;34m(self, population, k)\u001b[0m\n\u001b[1;32m    319\u001b[0m         \u001b[0mn\u001b[0m \u001b[0;34m=\u001b[0m \u001b[0mlen\u001b[0m\u001b[0;34m(\u001b[0m\u001b[0mpopulation\u001b[0m\u001b[0;34m)\u001b[0m\u001b[0;34m\u001b[0m\u001b[0;34m\u001b[0m\u001b[0m\n\u001b[1;32m    320\u001b[0m         \u001b[0;32mif\u001b[0m \u001b[0;32mnot\u001b[0m \u001b[0;36m0\u001b[0m \u001b[0;34m<=\u001b[0m \u001b[0mk\u001b[0m \u001b[0;34m<=\u001b[0m \u001b[0mn\u001b[0m\u001b[0;34m:\u001b[0m\u001b[0;34m\u001b[0m\u001b[0;34m\u001b[0m\u001b[0m\n\u001b[0;32m--> 321\u001b[0;31m             \u001b[0;32mraise\u001b[0m \u001b[0mValueError\u001b[0m\u001b[0;34m(\u001b[0m\u001b[0;34m\"Sample larger than population or is negative\"\u001b[0m\u001b[0;34m)\u001b[0m\u001b[0;34m\u001b[0m\u001b[0;34m\u001b[0m\u001b[0m\n\u001b[0m\u001b[1;32m    322\u001b[0m         \u001b[0mresult\u001b[0m \u001b[0;34m=\u001b[0m \u001b[0;34m[\u001b[0m\u001b[0;32mNone\u001b[0m\u001b[0;34m]\u001b[0m \u001b[0;34m*\u001b[0m \u001b[0mk\u001b[0m\u001b[0;34m\u001b[0m\u001b[0;34m\u001b[0m\u001b[0m\n\u001b[1;32m    323\u001b[0m         \u001b[0msetsize\u001b[0m \u001b[0;34m=\u001b[0m \u001b[0;36m21\u001b[0m        \u001b[0;31m# size of a small set minus size of an empty list\u001b[0m\u001b[0;34m\u001b[0m\u001b[0;34m\u001b[0m\u001b[0m\n",
      "\u001b[0;31mValueError\u001b[0m: Sample larger than population or is negative"
     ]
    }
   ],
   "source": [
    "#algorithm for software\n",
    "\n",
    "#student want to study C1 algebra \n",
    "\n",
    "#find place of random element L1 QP\n",
    "\n",
    "#QP\n",
    "import random\n",
    "import PIL\n",
    "from PIL import Image\n",
    "\n",
    "l1_qp = sorted(list(glob.glob(os.path.join('ocr_c1_indices_l1_qp*.png'))))\n",
    "#print (sorted((l1_files_algebra_qp)))\n",
    "l1qp = [random.sample(l1_qp,3)]\n",
    "#print (l1qp)\n",
    "l1ms_pos = l1_qp.index(random.sample(l1qp,3))\n",
    "#print(l1ms_pos)\n",
    "\n",
    "l2_qp = sorted(list(glob.glob(os.path.join('ocr_c1_indices_l2_qp*.png'))))\n",
    "#print (sorted((l2_files_algebra_qp)))\n",
    "l2qp = [random.choice(l2_qp)]\n",
    "#print (l2qp)\n",
    "l2ms_pos = l2_qp.index(random.choice(l2qp))\n",
    "#print(l1ms_pos)\n",
    "\n",
    "l3_qp = sorted(list(glob.glob(os.path.join('ocr_c1_indices_l3_qp*.png'))))\n",
    "#print (sorted((l3_files_algebra_qp)))\n",
    "l3qp = [random.choice(l3_qp)]\n",
    "#print (l3qp)\n",
    "l3ms_pos = l3_qp.index(random.choice(l3qp))\n",
    "#print(l1ms_pos)\n",
    "\n",
    "algebra_QP_all = l1_qp + l2_qp + l3_qp\n",
    "algebra_QP_algo = l1qp + l2qp + l3qp\n",
    "#print (algebra_QP_all)\n",
    "print (algebra_QP_algo)\n",
    "\n",
    "#MS\n",
    "l1_files_algebra_ms = sorted(list(glob.glob(os.path.join('as_c1_algebra_l1_ms*.png'))))\n",
    "l1ms = [l1_files_algebra_ms[l1ms_pos]]\n",
    "#print (l1ms)\n",
    "\n",
    "l2_files_algebra_ms = sorted(list(glob.glob(os.path.join('as_c1_algebra_l2_ms*.png'))))\n",
    "l2ms = [l2_files_algebra_ms[l2ms_pos]]\n",
    "#print (l2ms)\n",
    "\n",
    "l3_files_algebra_ms = sorted(list(glob.glob(os.path.join('as_c1_algebra_l3_ms*.png'))))\n",
    "l3ms = [l3_files_algebra_ms[l3ms_pos]]\n",
    "#print (l3ms)\n",
    "\n",
    "algebra_QP_all = l1_files_algebra_ms + l2_files_algebra_ms + l3_files_algebra_ms\n",
    "algebra_MS_algo = l1ms + l2ms + l3ms\n",
    "#print (algebra_QP_all)\n",
    "print (algebra_MS_algo)"
   ]
  },
  {
   "cell_type": "code",
   "execution_count": null,
   "metadata": {},
   "outputs": [],
   "source": [
    "#NOW student wants the first paper --> 3 of each level\n",
    "\n",
    "l1_files_algebra_qp = sorted(list(glob.glob(os.path.join('as_c1_algebra_l1_qp*.png'))))\n",
    "l1qp = random.sample(l1_files_algebra_qp, 3)\n",
    "#print (l1qp)\n",
    "\n",
    "l2_files_algebra_qp = sorted(list(glob.glob(os.path.join('as_c1_algebra_l2_qp*.png'))))\n",
    "l2qp = random.sample(l2_files_algebra_qp, 3)\n",
    "#print (l2qp)\n",
    "\n",
    "l3_files_algebra_qp = sorted(list(glob.glob(os.path.join('as_c1_algebra_l3_qp*.png'))))\n",
    "l3qp = random.sample(l3_files_algebra_qp, 3)\n",
    "#print (l3qp)\n",
    "\n",
    "alqp = l1qp + l2qp + l3qp\n",
    "print (alqp)\n",
    "\n",
    "ind = []\n",
    "\n",
    "for i in l1qp:\n",
    "    tt = l1_files_algebra_qp.index(i)\n",
    "    ind.append(tt)\n",
    "    \n",
    "for p in l2qp:\n",
    "    tt2 = l2_files_algebra_qp.index(p)\n",
    "    ind.append(tt2)\n",
    "    \n",
    "for s in l3qp:\n",
    "    tt3 = l3_files_algebra_qp.index(s)\n",
    "    ind.append(tt3)\n",
    "\n",
    "print (ind)\n",
    "\n",
    "#MS\n",
    "l1_files_algebra_ms = sorted(list(glob.glob(os.path.join('as_c1_algebra_l1_ms*.png'))))\n",
    "\n",
    "l2_files_algebra_ms = sorted(list(glob.glob(os.path.join('as_c1_algebra_l2_ms*.png'))))\n",
    "\n",
    "l3_files_algebra_ms = sorted(list(glob.glob(os.path.join('as_c1_algebra_l3_ms*.png'))))\n",
    "\n",
    "algebrams = l1_files_algebra_ms + l2_files_algebra_ms + l3_files_algebra_ms\n",
    "\n",
    "#print (algebrams)\n",
    "alms = []\n",
    "    \n",
    "for i in ind:\n",
    "    u = algebrams[i]\n",
    "    alms.append(u)\n",
    "    \n",
    "print (alms)"
   ]
  },
  {
   "cell_type": "code",
   "execution_count": null,
   "metadata": {},
   "outputs": [],
   "source": [
    "result = ['1','1','1','0','0','1','1','1','1']\n",
    "\n",
    "r_l1 = result[0:3]\n",
    "r_l2 = result[3:6]\n",
    "r_l3 = result[6:9]\n",
    "\n",
    "count1 = [r_l1.count('0')]\n",
    "\n",
    "count2 = [r_l2.count('0')]\n",
    "\n",
    "count3 = [r_l3.count('0')]\n",
    "\n",
    "count = count1 + count2 + count3\n",
    "\n",
    "def rest2():\n",
    "    for i in count:\n",
    "        if count[0] >= 1:\n",
    "            l1qp_new1 = random.sample(l1_files_algebra_qp, 3)\n",
    "            l2qp_new1 = random.sample(l2_files_algebra_qp, 3)\n",
    "            l3qp_new1 = random.sample(l3_files_algebra_qp, 3)\n",
    "            alqp_new1 = l1qp_new1 + l2qp_new1 + l3qp_new1\n",
    "            return (alqp_new1)\n",
    "        if count[0] == 0:\n",
    "            l2qp_new2 = random.sample(l2_files_algebra_qp, 5)\n",
    "            l3qp_new2 = random.sample(l3_files_algebra_qp, 4)\n",
    "            alqp_new2 = l2qp_new2 + l3qp_new2\n",
    "            return (alqp_new2)\n",
    "            \n",
    "print (rest2())"
   ]
  },
  {
   "cell_type": "code",
   "execution_count": null,
   "metadata": {},
   "outputs": [],
   "source": [
    "from PIL import Image, ImageEnhance \n",
    "\n",
    "algebra_QP_test = [] \n",
    "\n",
    "algebra_QP_test_out = [] \n",
    "\n",
    "for i in algebra_QP_test:\n",
    "    im = Image.open(i)\n",
    "    enhancer = ImageEnhance.Sharpness(im)\n",
    "    enhanced_im = enhancer.enhance(10.0)\n",
    "    enhanced_im.save(name + '_t.png')\n",
    "    algebra_QP_test_out.append(enhanced_im)\n",
    "    \n",
    "print (algebra_QP_test_out)\n"
   ]
  },
  {
   "cell_type": "code",
   "execution_count": null,
   "metadata": {},
   "outputs": [],
   "source": [
    "#Resize and clarify\n",
    "\n",
    "import PIL\n",
    "from PIL import Image\n",
    "\n",
    "basewidth = 490\n",
    "\n",
    "x = 'as_c1_algebra_l1_qp1.png'\n",
    "img = Image.open(x)\n",
    "\n",
    "wpercent = (basewidth / float(img.size[0]))\n",
    "hsize = int((float(img.size[1]) * float(wpercent)))\n",
    "img = img.resize((basewidth, hsize), PIL.Image.ANTIALIAS)\n",
    "img.save(\"as_c1_algebra_l1_qp3\" + \".png\")\n",
    "\n",
    "from PIL import Image, ImageEnhance \n",
    "\n",
    "im = Image.open(\"as_c1_algebra_l1_qp3.png\")\n",
    "enhancer = ImageEnhance.Sharpness(im)\n",
    "enhanced_im = enhancer.enhance(10.0)\n",
    "enhanced_im.save(\"as_c1_algebra_l1_qp4.png\")\n",
    "\n",
    "tas2 = ['as_c1_algebra_l1_qp4.png']"
   ]
  },
  {
   "cell_type": "code",
   "execution_count": null,
   "metadata": {},
   "outputs": [],
   "source": [
    "#Create QP and MS based on files_qp and files_ms above\n",
    "from fpdf import FPDF\n",
    "from IPython.display import Image\n",
    "\n",
    "l1_files_algebra_qp_test = sorted(list(glob.glob(os.path.join('as_c1_algebra_l1_qp*.png'))))\n",
    "l2_files_algebra_qp_test = sorted(list(glob.glob(os.path.join('as_c1_algebra_l2_qp*.png'))))\n",
    "\n",
    "\n",
    "algebra_QP_test = l1_files_algebra_qp_test + l2_files_algebra_qp_test\n",
    "print (algebra_QP_test)"
   ]
  },
  {
   "cell_type": "code",
   "execution_count": null,
   "metadata": {},
   "outputs": [],
   "source": [
    "x = 'as_c1_algebra_l1_qp1.png'\n",
    "img = Image.open(x)\n",
    "basewidth = 1100\n",
    "wpercent = (basewidth / float(img.size[0]))\n",
    "hsize = int((float(img.size[1]) * float(wpercent)))\n",
    "img = img.resize((basewidth, hsize), PIL.Image.ANTIALIAS)\n",
    "img.save(\"xxx\" + \".png\")\n",
    "\n",
    "xx = ['xxx.png']\n",
    "tas = ['xxx2.png'] "
   ]
  },
  {
   "cell_type": "code",
   "execution_count": null,
   "metadata": {},
   "outputs": [],
   "source": [
    "algebra_QP_test1 = xx + l1_files_algebra_qp_test + l2_files_algebra_qp_test + tas\n",
    "\n",
    "class PDF(FPDF):\n",
    "    def header(self):\n",
    "        # Logo\n",
    "        self.image('logo.jpg', 10, 6, 33)\n",
    "        # Arial bold 15\n",
    "        self.set_font('Arial', 'B', 15)\n",
    "        # Move to the right\n",
    "        self.cell(80)\n",
    "        # Title\n",
    "        self.cell(45, 20, 'Brainy Bunny', 1, 0, 'C')\n",
    "        # Line break\n",
    "        self.ln(40)\n",
    "\n",
    "    # Page footer\n",
    "    def footer(self):\n",
    "        # Position at 1.5 cm from bottom\n",
    "        self.set_y(-15)\n",
    "        # Arial italic 8\n",
    "        self.set_font('Arial', 'I', 8)\n",
    "        # Page number\n",
    "        self.cell(0, 10, 'Page ' + str(self.page_no()), 0, 0, 'C')\n",
    "        \n",
    "    document = PDF()\n",
    "    document= PDF(orientation='L',format='A3')\n",
    "    \n",
    "    for i in algebra_QP_test1:\n",
    "        document.add_page()\n",
    "        document.image(i)\n",
    "        \n",
    "    document.output('Algebra_QP1.pdf', 'F')\n"
   ]
  },
  {
   "cell_type": "code",
   "execution_count": null,
   "metadata": {},
   "outputs": [],
   "source": [
    "out = []\n",
    "\n",
    "for i in algebra_QP_test:\n",
    "    img = Image.open(i)\n",
    "    basewidth = 1100\n",
    "    wpercent = (basewidth / float(img.size[0]))\n",
    "    hsize = int((float(img.size[1]) * float(wpercent)))\n",
    "    img = img.resize((basewidth, hsize), PIL.Image.ANTIALIAS)\n",
    "    out.append(i)\n",
    "    \n",
    "print (out)"
   ]
  },
  {
   "cell_type": "code",
   "execution_count": null,
   "metadata": {},
   "outputs": [],
   "source": [
    "from fpdf import FPDF\n",
    "out1 = ['as_c1_algebra_l1_qp1.png', 'as_c1_algebra_l2_qp1.png']\n",
    "\n",
    "class PDF(FPDF):\n",
    "    def header(self):\n",
    "        # Logo\n",
    "        self.image('logo.jpg', 10, 6, 33)\n",
    "        # Arial bold 15\n",
    "        self.set_font('Arial', 'B', 15)\n",
    "        # Move to the right\n",
    "        self.cell(80)\n",
    "        # Title\n",
    "        self.cell(60, 10, 'Brainy Bunny', 1, 0, 'C')\n",
    "        # Line break\n",
    "        self.ln(20)\n",
    "\n",
    "    # Page footer\n",
    "    def footer(self):\n",
    "        # Position at 1.5 cm from bottom\n",
    "        self.set_y(-15)\n",
    "        # Arial italic 8\n",
    "        self.set_font('Arial', 'I', 8)\n",
    "        # Page number\n",
    "        self.cell(0, 10, 'Page ' + str(self.page_no()) + '/{nb}', 0, 0, 'C')\n",
    "        \n",
    "    document = PDF()\n",
    "    document= PDF(orientation='L',format='A3')\n",
    "    \n",
    "    for i in out1:\n",
    "        document.add_page()\n",
    "        document.image(i)\n",
    "        \n",
    "    document.output('Algebra_QP2.pdf', 'F')\n"
   ]
  },
  {
   "cell_type": "code",
   "execution_count": null,
   "metadata": {},
   "outputs": [],
   "source": [
    "import Image\n",
    "import os\n",
    "import sys\n",
    "\n",
    "directory = sys.argv[1]\n",
    "\n",
    "for file_name in os.listdir('/Users/rishabharora/BRAINY BUNNY'):\n",
    "    print(\"Processing %s\" % file_name)\n",
    "image = Image.open(os.path.join('/Users/rishabharora/BRAINY BUNNY', file_name))\n",
    "\n",
    "x,y = image.size\n",
    "new_dimensions = (x/2, y/2) #dimension set here\n",
    "output = image.resize(new_dimensions, Image.ANTIALIAS)\n",
    "\n",
    "output_file_name = os.path.join(directory, \"small_\" + file_name)\n",
    "output.save(output_file_name, \"JPEG\", quality = 95)\n",
    "\n",
    "print(\"All done\")"
   ]
  },
  {
   "cell_type": "code",
   "execution_count": 6,
   "metadata": {},
   "outputs": [
    {
     "name": "stdout",
     "output_type": "stream",
     "text": [
      "['OCRMEI_c4_geometry_l1_qp1.png', 'OCRMEI_c4_geometry_l1_qp2.png', 'OCRMEI_c4_geometry_l2_qp1.png', 'OCRMEI_c4_geometry_l2_qp2.png', 'OCRMEI_c4_geometry_l3_qp1.png']\n",
      "['OCRMEI_c4_geometry_l1_ms1.png', 'OCRMEI_c4_geometry_l1_ms2.png', 'OCRMEI_c4_geometry_l2_ms1.png', 'OCRMEI_c4_geometry_l2_ms2.png', 'OCRMEI_c4_geometry_l3_ms1.png']\n"
     ]
    }
   ],
   "source": [
    "import glob, os\n",
    "import random\n",
    "import PIL\n",
    "from PIL import Image\n",
    "\n",
    "title = 'OCRMEI_c4_geometry'\n",
    "\n",
    "#NOW student wants the first paper --> 3 of each level\n",
    "from fpdf import FPDF\n",
    "l1 = sorted(list(glob.glob(os.path.join(title + '_l1_qp*.png'))))\n",
    "l1qp = random.sample(l1, 2)\n",
    "#print (l1qp)\n",
    "\n",
    "l2 = sorted(list(glob.glob(os.path.join(title + '_l2_qp*.png'))))\n",
    "l2qp = random.sample(l2, 2)\n",
    "#print (l2qp)\n",
    "\n",
    "l3 = sorted(list(glob.glob(os.path.join(title + '_l3_qp*.png'))))\n",
    "l3qp = random.sample(l3, 1)\n",
    "#print (l3qp)\n",
    "\n",
    "qp_all = l1 + l2 + l3\n",
    "qp = l1qp + l2qp + l3qp\n",
    "#print (qp_all)\n",
    "print (qp)\n",
    "\n",
    "position = []\n",
    "\n",
    "for i in qp:\n",
    "    pos = qp_all.index(i)\n",
    "    position.append(pos)\n",
    "\n",
    "#print (position)\n",
    "\n",
    "#MS\n",
    "l1_ms = sorted(list(glob.glob(os.path.join(title + '_l1_ms*.png'))))\n",
    "\n",
    "l2_ms = sorted(list(glob.glob(os.path.join(title + '_l2_ms*.png'))))\n",
    "\n",
    "l3_ms = sorted(list(glob.glob(os.path.join(title + '_l3_ms*.png'))))\n",
    "\n",
    "ms_all = l1_ms + l2_ms + l3_ms\n",
    "\n",
    "ms = []\n",
    "    \n",
    "for i in position:\n",
    "    u = ms_all[i]\n",
    "    ms.append(u)\n",
    "    \n",
    "print (ms)"
   ]
  },
  {
   "cell_type": "code",
   "execution_count": null,
   "metadata": {},
   "outputs": [],
   "source": [
    "#resize qp\n",
    "widthlist = []\n",
    "heightlist = []\n",
    "\n",
    "for i in qp:\n",
    "    aa = Image.open(i)\n",
    "    width = aa.size[0]\n",
    "    height = aa.size[1]\n",
    "    widthlist.append(width)\n",
    "    heightlist.append(height)\n",
    "    \n",
    "print ('OLD width of images', widthlist)\n",
    "print ('OLD height of images', heightlist)"
   ]
  },
  {
   "cell_type": "code",
   "execution_count": null,
   "metadata": {},
   "outputs": [],
   "source": [
    "from fpdf import FPDF\n",
    "\n",
    "name = 'OCR MEI C4 Geometry'\n",
    "\n",
    "class PDF(FPDF):\n",
    "    def header(self):\n",
    "        # Logo\n",
    "        self.image('logo.jpg', 10, 6, 33)\n",
    "        # Arial bold 15\n",
    "        self.set_font('Arial', '', 30)\n",
    "        # Move to the right\n",
    "        self.cell(170)\n",
    "        # Title\n",
    "        self.cell(80, 10, 'Brainy Bunny', 0, 0, 'C')\n",
    "        # Line break\n",
    "        self.ln(10)\n",
    "        # Arial bold 15\n",
    "        self.set_font('Arial', 'B', 15)\n",
    "        # Move to the right\n",
    "        self.cell(150)\n",
    "        # Title\n",
    "        self.cell(120, 10, name, 1, 0, 'C')\n",
    "        # Line break\n",
    "        self.ln(20)\n",
    "        #question number\n",
    "        self.cell(80, 10, 'Question : ' + str(self.page_no()), 1, 0, 'C')\n",
    "        self.cell(215)\n",
    "        self.cell(80, 10, 'www.brainybunny.co.uk', 1, 0, 'C')\n",
    "        # Line break\n",
    "        self.ln(10)\n",
    "\n",
    "    # Page footer\n",
    "    def footer(self):\n",
    "        # Position at 1.5 cm from bottom\n",
    "        self.set_y(-10)\n",
    "        # Arial italic 8\n",
    "        self.set_font('Arial', 'I', 10)\n",
    "        # Page number\n",
    "        self.cell(0, 10, 'Page ' + str(self.page_no()), 0, 0, 'C')      \n",
    "    \n",
    "documentqp = PDF()\n",
    "documentqp = PDF('L', 'mm', ((500,400)))\n",
    "    \n",
    "for i in qp:\n",
    "    documentqp.add_page()\n",
    "    documentqp.image(i)\n",
    "        \n",
    "documentqp.output(name + '_QP.pdf', 'F')\n",
    "\n",
    "documentms = PDF()\n",
    "documentms = PDF('L', 'mm', ((500,400)))\n",
    "    \n",
    "for i in ms:\n",
    "    documentms.add_page()\n",
    "    documentms.image(i)\n",
    "        \n",
    "documentms.output(name + '_MS.pdf', 'F')"
   ]
  },
  {
   "cell_type": "code",
   "execution_count": null,
   "metadata": {},
   "outputs": [],
   "source": [
    "from PyPDF2 import PdfFileReader\n",
    "pdfqp = PdfFileReader(open(name + '_QP.pdf','rb'))\n",
    "qppdf = pdfqp.getNumPages()\n",
    "print ('QP:', qppdf)\n",
    "\n",
    "questions = len(qp)\n",
    "\n",
    "if qppdf == questions:\n",
    "    print ('QP All is well')\n",
    "else:\n",
    "    print ('QP shit')\n",
    "\n",
    "\n",
    "pdfms = PdfFileReader(open(name + '_MS.pdf','rb'))\n",
    "mspdf = pdfms.getNumPages()\n",
    "print ('MS:', mspdf)\n",
    "\n",
    "answers = len(ms)\n",
    "\n",
    "if mspdf == answers:\n",
    "    print ('MS All is well')\n",
    "else:\n",
    "    print ('MS shit')"
   ]
  },
  {
   "cell_type": "code",
   "execution_count": null,
   "metadata": {},
   "outputs": [],
   "source": []
  },
  {
   "cell_type": "code",
   "execution_count": 8,
   "metadata": {},
   "outputs": [
    {
     "name": "stdout",
     "output_type": "stream",
     "text": [
      "Fig. 8 shows the line y =x and parts of the curves y = f(x) and y:\n",
      "fase\", g(a) = 1 +Inx.\n",
      "\n",
      "‘The curves intersect the axes atthe poi\n",
      "‘the point C.\n",
      "\n",
      " \n",
      "\n",
      "is A and B, as shown. The curves and the line y = x meet at\n",
      "\n",
      " \n",
      "\n",
      "Fig 8\n",
      "\n",
      "( Find the exact coordinates of A and B. Verify that the coordinates of Care (1, 1). (5)\n",
      "(i) Prove algebraically that g(x) isthe inverse of f(x). 2\n",
      "(ity Bvatuate [ (2) dx, giving your answer in terms ofc. 8\n",
      "\n",
      "6) Generate by si int fina\n",
      "\n",
      "Hence show that f' gepde= 2. oy\n"
     ]
    }
   ],
   "source": [
    "from PIL import Image\n",
    "import PIL.Image\n",
    "\n",
    "from pytesseract import image_to_string\n",
    "import pytesseract\n",
    "\n",
    "pytesseract.pytesseract.tesseract_cmd = r'/usr/local/Cellar/tesseract/4.1.1/bin/tesseract'\n",
    "TESSDATA_PREFIX = 'C:/Program Files (x86)/Tesseract-OCR'\n",
    "output = pytesseract.image_to_string(PIL.Image.open('OCRMEI_c3_integration_l3_qp2.png').convert(\"RGB\"), lang='eng')\n",
    "print (output)"
   ]
  },
  {
   "cell_type": "code",
   "execution_count": null,
   "metadata": {},
   "outputs": [],
   "source": [
    "words = ['si','curvess','intersect']\n",
    "mystring = output\n",
    "\n",
    "yay = []\n",
    "fucked = []\n",
    "\n",
    "\n",
    "for i in words:\n",
    "    if i in mystring:\n",
    "        yay.append(i)\n",
    "    else:\n",
    "        fucked.append(i)\n",
    "        \n",
    "totalwords = len(words)\n",
    "totalyay = len(yay)\n",
    "totalfucked = len(fucked)\n",
    "\n",
    "percentage = (totalyay/totalwords)*100\n",
    "print (percentage)\n",
    "\n",
    "if percentage > 70:\n",
    "    print ('good')\n",
    "else:\n",
    "    print ('bad')\n"
   ]
  },
  {
   "cell_type": "code",
   "execution_count": null,
   "metadata": {},
   "outputs": [],
   "source": [
    "words = ['si','curvess','intersect']\n",
    "mystring = output\n",
    "\n",
    "for i in words:\n",
    "    if i in mystring:\n",
    "        print ('yay')\n",
    "    else:\n",
    "        print ('fucked')\n",
    "        \n",
    "totalwords = len(words)\n",
    "print (totalwords)"
   ]
  },
  {
   "cell_type": "code",
   "execution_count": 9,
   "metadata": {},
   "outputs": [
    {
     "name": "stdout",
     "output_type": "stream",
     "text": [
      "PMT\n",
      "2\n",
      "1 The point A has coordinates ð\"3, 2Þ and the point B has coordinates ð7, kÞ.\n",
      "The line AB has equation 3xþ5y ¼ 1.\n",
      "(a) (i) Show that k ¼ \"4. (1 mark)\n",
      "(ii) Hence find the coordinates of the midpoint of AB. (2 marks)\n",
      "(b) Find the gradient of AB. (2 marks)\n",
      "(c) A line which passes through the point A is perpendicular to the line AB. Find an\n",
      "equation of this line, giving your answer in the form pxþqyþr ¼ 0, where p, q\n",
      "and r are integers. (3 marks)\n",
      "(d) The line AB, with equation 3xþ5y ¼ 1, intersects the line 5xþ8y ¼ 4 at the\n",
      "point C. Find the coordinates of C. (3 marks)\n",
      "2 A bird flies from a tree. At time t seconds, the bird’s height, y metres, above the\n",
      "horizontal ground is given by\n",
      "y ¼ 1t4\"t2þ5, 04t44\n",
      "8\n",
      "dy\n",
      "(a) Find . (2 marks)\n",
      "dt\n",
      "(b)(i) Find the rate of change of height of the bird in metres per second when t ¼ 1.\n",
      "(2 marks)\n",
      "(ii) Determine, with a reason, whether the bird’s height above the horizontal ground is\n",
      "increasing or decreasing when t ¼ 1. (1 mark)\n",
      "d2y\n",
      "(c) (i) Find the value of when t ¼ 2. (2 marks)\n",
      "dt2\n",
      "(ii) Given that y has a stationary value when t ¼ 2, state whether this is a maximum\n",
      "value or a minimum value. (1 mark)\n",
      "pﬃﬃﬃﬃﬃ pﬃﬃﬃ\n",
      "3 (a) (i) Express 18 in the form k 2, where k is an integer. (1 mark)\n",
      "pﬃﬃﬃ\n",
      "8\n",
      "(ii) Simplify pﬃﬃﬃﬃﬃ pﬃﬃﬃﬃﬃ. (3 marks)\n",
      "18þ 32\n",
      "pﬃﬃﬃ pﬃﬃﬃ\n",
      "7 2\" 3 pﬃﬃﬃ\n",
      "(b) Express pﬃﬃﬃ pﬃﬃﬃ in the form mþ n, where m and n are integers. (4 marks)\n",
      "2 2\" 3\n",
      "(02)\n",
      "P56476/Jan13/MPC1\n"
     ]
    }
   ],
   "source": [
    "import pdfplumber\n",
    "pdf = pdfplumber.open('test.pdf')\n",
    "page = pdf.pages[1]\n",
    "text = page.extract_text()\n",
    "print(text)\n",
    "pdf.close()"
   ]
  },
  {
   "cell_type": "code",
   "execution_count": 555,
   "metadata": {},
   "outputs": [],
   "source": [
    "from pdf2image import convert_from_path\n",
    "pages = convert_from_path('AQA_m1_Jan_2005_qp.pdf', dpi=200)\n",
    "for idx,page in enumerate(pages):\n",
    "    page.save('AQA_m1_Jan_2005_qp_page'+str(idx)+'.jpg', 'JPEG')\n",
    "    \n",
    "page_idx = 0\n",
    "page = pages[page_idx]\n",
    "page.save('image.jpg', 'JPEG')"
   ]
  },
  {
   "cell_type": "code",
   "execution_count": 75,
   "metadata": {},
   "outputs": [
    {
     "name": "stdout",
     "output_type": "stream",
     "text": [
      "1654 2339\n"
     ]
    }
   ],
   "source": [
    "import numpy as np\n",
    "test = Image.open('page1.jpg')\n",
    "width = test.size[0]\n",
    "height = test.size[1]\n",
    "print (width, height)"
   ]
  },
  {
   "cell_type": "code",
   "execution_count": 13,
   "metadata": {},
   "outputs": [
    {
     "name": "stdout",
     "output_type": "stream",
     "text": [
      "2\n",
      "1 The point A has coordinates (—3, 2) and the point B has coordinates (7, k).\n",
      "The line AB has equation 3x+ S5y=1.\n",
      "(a) (i) Show that k = —4. (1 mark)\n",
      "(ii) Hence find the coordinates of the midpoint of AB. (2 marks)\n",
      "(b) Find the gradient of AB. (2 marks)\n",
      "(c) A line which passes through the point A is perpendicular to the line AB. Find an\n",
      "equation of this line, giving your answer in the form px + qv +r=0, where p, ¢\n",
      "and r are integers. (3 marks)\n",
      "(d) The line AB, with equation 3x + Sy = 1, intersects the line 5x + 8y = 4 at the\n",
      "point C. Find the coordinates of C. (3 marks)\n",
      "2 A bird flies from a tree. At time ¢ seconds, the bird’s height, y metres, above the\n",
      "horizontal ground is given by\n",
      "yaatt-P4+5, 0<t<4\n",
      "d\n",
      "(a) Find 2. (2 marks)\n",
      "dt\n",
      "(b) (i) Find the rate of change of height of the bird in metres per second when f= 1.\n",
      "(2 marks)\n",
      "(ii) Determine, with a reason, whether the bird’s height above the horizontal ground is\n",
      "increasing or decreasing when ¢ = 1. (1 mark)\n",
      "ios dy\n",
      "(c) (i) Find the value of a when t=2. (2 marks)\n",
      "t\n",
      "(ii) Given that y has a stationary value when ¢ = 2, state whether this is a maximum\n",
      "value or a minimum value. (1 mark)\n",
      "3 (a) (i) Express 18 in the form ky/2, where k is an integer. (1 mark)\n",
      "V8\n",
      "ii) Simplify —————. 3 marks\n",
      "(ii) phty Fg VD (- )\n",
      "1/2 -— V3\n",
      "(b) Express 1v2 ~ v3 in the form m+ ./n, where m and n are integers. (4 marks)\n",
      "\n",
      "MN\n",
      "\n",
      "2V2- V3\n",
      "\n",
      "P56476/Jan13/MPC1\n",
      "\n",
      "PMT\n"
     ]
    }
   ],
   "source": [
    "from PIL import Image\n",
    "import PIL.Image\n",
    "\n",
    "from pytesseract import image_to_string\n",
    "import pytesseract\n",
    "\n",
    "pytesseract.pytesseract.tesseract_cmd = r'/usr/local/Cellar/tesseract/4.1.1/bin/tesseract'\n",
    "TESSDATA_PREFIX = 'C:/Program Files (x86)/Tesseract-OCR'\n",
    "output = pytesseract.image_to_string(PIL.Image.open('page1.jpg').convert(\"RGB\"), lang='eng')\n",
    "print (output)"
   ]
  },
  {
   "cell_type": "code",
   "execution_count": 14,
   "metadata": {},
   "outputs": [],
   "source": [
    "from PIL import Image \n",
    "  \n",
    "# Opens a image in RGB mode \n",
    "im = Image.open(r\"/Users/rishabharora/BRAINY BUNNY/page1.jpg\") \n",
    "im.show()\n",
    "  \n",
    "# Opens a image in RGB mode \n",
    "im = Image.open(r\"/Users/rishabharora/BRAINY BUNNY/page1.jpg\") \n",
    "  \n",
    "# Setting the points for cropped image \n",
    "left = 150\n",
    "top = 100\n",
    "right = 1500\n",
    "bottom = 900\n",
    "\n",
    "\n",
    "# Cropped image of above dimension \n",
    "# (It will not change orginal image) \n",
    "im1 = im.crop((left, top, right, bottom)) \n",
    "  \n",
    "# Shows the image in image viewer \n",
    "im1.show()"
   ]
  },
  {
   "cell_type": "code",
   "execution_count": 544,
   "metadata": {},
   "outputs": [
    {
     "ename": "AttributeError",
     "evalue": "'str' object has no attribute 'to_csv'",
     "output_type": "error",
     "traceback": [
      "\u001b[0;31m---------------------------------------------------------------------------\u001b[0m",
      "\u001b[0;31mAttributeError\u001b[0m                            Traceback (most recent call last)",
      "\u001b[0;32m<ipython-input-544-b1e9540eaafd>\u001b[0m in \u001b[0;36m<module>\u001b[0;34m\u001b[0m\n\u001b[1;32m      4\u001b[0m \u001b[0;34m\u001b[0m\u001b[0m\n\u001b[1;32m      5\u001b[0m \u001b[0mret\u001b[0m \u001b[0;34m=\u001b[0m \u001b[0mpt\u001b[0m\u001b[0;34m.\u001b[0m\u001b[0mimage_to_boxes\u001b[0m\u001b[0;34m(\u001b[0m\u001b[0mimge\u001b[0m\u001b[0;34m)\u001b[0m\u001b[0;34m\u001b[0m\u001b[0;34m\u001b[0m\u001b[0m\n\u001b[0;32m----> 6\u001b[0;31m \u001b[0mret\u001b[0m\u001b[0;34m.\u001b[0m\u001b[0mto_csv\u001b[0m\u001b[0;34m(\u001b[0m\u001b[0;34m'/Users/rishabharora/BRAINY BUNNY/test.csv'\u001b[0m\u001b[0;34m,\u001b[0m \u001b[0mindex\u001b[0m\u001b[0;34m=\u001b[0m\u001b[0;32mFalse\u001b[0m\u001b[0;34m)\u001b[0m\u001b[0;34m\u001b[0m\u001b[0;34m\u001b[0m\u001b[0m\n\u001b[0m\u001b[1;32m      7\u001b[0m \u001b[0;31m#print (ret)\u001b[0m\u001b[0;34m\u001b[0m\u001b[0;34m\u001b[0m\u001b[0;34m\u001b[0m\u001b[0m\n",
      "\u001b[0;31mAttributeError\u001b[0m: 'str' object has no attribute 'to_csv'"
     ]
    }
   ],
   "source": [
    "img = 'OCR_m1_Jan_2005_qp_page1.jpg'\n",
    "imge = Image.open(img)\n",
    "data=pytesseract.image_to_boxes(imge)\n",
    "\n",
    "ret = pt.image_to_boxes(imge)\n",
    "ret.to_csv('/Users/rishabharora/BRAINY BUNNY/test.csv', index=False)\n",
    "#print (ret)"
   ]
  },
  {
   "cell_type": "code",
   "execution_count": 33,
   "metadata": {},
   "outputs": [
    {
     "name": "stdout",
     "output_type": "stream",
     "text": [
      "[32, 72, 116, 120, 142, 151, 206, 216, 245, 255, 439, 449, 568, 714, 726, 739, 743, 825, 835, 960, 976, 980, 1014, 1026, 1137, 1148, 1152, 1208, 1248, 1264, 1279, 1348]\n"
     ]
    }
   ],
   "source": [
    "def findOccurrences(s, ch):\n",
    "    return [i for i, letter in enumerate(s) if letter == ch]\n",
    "\n",
    "\n",
    "lala = findOccurrences(output, '(')\n",
    "print (lala)"
   ]
  },
  {
   "cell_type": "code",
   "execution_count": null,
   "metadata": {},
   "outputs": [],
   "source": []
  },
  {
   "cell_type": "code",
   "execution_count": 78,
   "metadata": {},
   "outputs": [
    {
     "name": "stdout",
     "output_type": "stream",
     "text": [
      "uint8\n",
      "(2339, 1654, 3)\n"
     ]
    },
    {
     "data": {
      "image/png": "[encoded data removed]",
      "text/plain": [
       "<Figure size 432x288 with 1 Axes>"
      ]
     },
     "metadata": {
      "needs_background": "light"
     },
     "output_type": "display_data"
    }
   ],
   "source": [
    "# load and display an image with Matplotlib\n",
    "from matplotlib import image\n",
    "from matplotlib import pyplot\n",
    "# load image as pixel array\n",
    "data = image.imread('page3.jpg')\n",
    "# summarize shape of the pixel array\n",
    "print(data.dtype)\n",
    "print(data.shape)\n",
    "# display the array of pixels as an image\n",
    "pyplot.imshow(data)\n",
    "pyplot.show()"
   ]
  },
  {
   "cell_type": "code",
   "execution_count": 775,
   "metadata": {},
   "outputs": [
    {
     "name": "stdout",
     "output_type": "stream",
     "text": [
      "Answer all questions.\n",
      "\n",
      " \n",
      "\n",
      "1 A train travels along a straight horizontal track. It is travelling at a speed of 12ms—! when\n",
      "it begins to accelerate uniformly. It reaches a speed of 40ms~! after accelerating for\n",
      "100 seconds.\n",
      "\n",
      "(a) (i) Show that the acceleration of the train is 0.28ms~?. (2 marks)\n",
      "(ii) Find the distance that the train travelled in the 100 seconds. (2 marks)\n",
      "(b) The mass of the train is 200 tonnes and a resistance force of 40000N acts on the train.\n",
      "\n",
      "Find the magnitude of the driving force produced by the engine that acts on the train as it\n",
      "accelerates. (3 marks)\n",
      "\n",
      "2 A particle, A, of mass 12 kg is moving on a smooth horizontal surface with velocity 5 ms,\n",
      "\n",
      "It then collides and coalesces with a second particle, B, of mass 4kg.\n",
      "\n",
      "a) If before the collision the velocity of B was a ms-!, find the velocity of the combined\n",
      "3\n",
      "\n",
      "particle after the collision. (4 marks)\n",
      "\n",
      "(b) Ifafter the collision the velocity of the combined particle is |; ms-!, find the velocity of\n",
      "\n",
      "B before the collision. (3 marks)\n",
      "\n",
      "P76395/010S/MM1B\n",
      "\n",
      " \n",
      "\n",
      "3 The diagram shows a rope that is attached to a box of mass 25 kg, which is being pulled along\n",
      "rough horizontal ground. The rope is at an angle of 30° to the ground. The tension in the rope\n",
      "is 40N. The box accelerates at 0.1 ms~?.\n",
      "\n",
      "30°\n",
      "\n",
      " \n",
      "\n",
      "(a) Draw a diagram to show all of the forces acting on the box. (1 mark)\n",
      "\n",
      "(b) Show that the magnitude of the friction force acting on the box is 32.1 N, correct to three\n",
      "\n",
      "significant figures. (3 marks)\n",
      "(c) Show that the magnitude of the normal reaction force that the ground exerts on the box is\n",
      "225N. (3 marks)\n",
      "(d) Find the coefficient of friction between the box and the ground. (2 marks)\n",
      "\n",
      "(e) State what would happen to the magnitude of the friction force if the angle between the\n",
      "rope and the horizontal were increased. Give a reason for your answer. (2 marks)\n",
      "\n",
      "4 Two particles are connected by a string, which passes over a pulley. Model the string as light\n",
      "and inextensible. The particles have masses of 2kg and 5kg. The particles are released from\n",
      "\n",
      "rest.\n",
      "\n",
      "(a) State one modelling assumption that you should make about the pulley in order to\n",
      "determine the acceleration of the particles. (1 mark)\n",
      "\n",
      "(b) By forming an equation of motion for each particle, show that the magnitude of the\n",
      "acceleration of each particle is 42ms~. (5 marks)\n",
      "\n",
      "(c) Find the tension in the string. (2 marks)\n",
      "\n",
      "Turn over >\n",
      "P76395/0105/MMIB\n",
      "\n",
      " \n",
      "\n",
      "5 Two ropes are attached to a load of mass 500kg. The ropes make angles of 30° and 45° to the\n",
      "vertical, as shown in the diagram. The tensions in these ropes are 7; and T, newtons. The load\n",
      "is also supported by a vertical spring.\n",
      "\n",
      " \n",
      "\n",
      "The system is in equilibrium and 7, = 200.\n",
      "(a) Show that 7, = 141, correct to three significant figures. (3 marks)\n",
      "\n",
      "(b) Find the force that the spring exerts on the load. (4 marks)\n",
      "\n",
      "6 A motor boat can travel at a speed of 6ms~! relative to the water. It is used to cross a river in\n",
      "which the current flows at2ms~!. The resultant velocity of the boat makes an angle of 60° to\n",
      "the river bank, as shown in the diagram.\n",
      "\n",
      " \n",
      "\n",
      "Current\n",
      "1\n",
      "\n",
      "Resultant velocity\n",
      "2ms~\n",
      "\n",
      " \n",
      "\n",
      "The angle between the direction in which the boat is travelling relative to the water and the\n",
      "resultant velocity is a.\n",
      "\n",
      "(a) Show that « = 16.8°, correct to three significant figures. (4 marks)\n",
      "\n",
      "(b) Find the magnitude of the resultant velocity. (3 marks)\n",
      "\n",
      "P76395/0105/MM1B\n"
     ]
    }
   ],
   "source": [
    "import pytesseract\n",
    "import cv2\n",
    "import matplotlib.pyplot as plt\n",
    "from PIL import Image\n",
    "# read the image using OpenCV\n",
    "image = cv2.imread(\"test_vertical.jpg\")\n",
    "\n",
    "# get the string\n",
    "string = pytesseract.image_to_string(image)\n",
    "# print it\n",
    "print(string)"
   ]
  },
  {
   "cell_type": "code",
   "execution_count": 552,
   "metadata": {},
   "outputs": [
    {
     "data": {
      "image/png": "[encoded data removed]",
      "text/plain": [
       "<Figure size 432x288 with 1 Axes>"
      ]
     },
     "metadata": {
      "needs_background": "light"
     },
     "output_type": "display_data"
    }
   ],
   "source": [
    "# make a copy of this image to draw in\n",
    "image_copy = image.copy()\n",
    "# the target word to search for\n",
    "target_word = \"1\"\n",
    "# get all data from the image\n",
    "data = pytesseract.image_to_data(image, output_type=pytesseract.Output.DICT)\n",
    "\n",
    "# get all occurences of the that word\n",
    "word_occurences = [ i for i, word in enumerate(data[\"text\"]) if word.lower() == target_word ]\n",
    "\n",
    "for occ in word_occurences:\n",
    "    # extract the width, height, top and left position for that detected word\n",
    "    w = data[\"width\"][occ]\n",
    "    h = data[\"height\"][occ]\n",
    "    l = data[\"left\"][occ]\n",
    "    t = data[\"top\"][occ]\n",
    "    # define all the surrounding box points\n",
    "    p1 = (l, t)\n",
    "    p2 = (l + w, t)\n",
    "    p3 = (l + w, t + h)\n",
    "    p4 = (l, t + h)\n",
    "    # draw the 4 lines (rectangular)\n",
    "    image_copy = cv2.line(image_copy, p1, p2, color=(255, 0, 0), thickness=2)\n",
    "    image_copy = cv2.line(image_copy, p2, p3, color=(255, 0, 0), thickness=2)\n",
    "    image_copy = cv2.line(image_copy, p3, p4, color=(255, 0, 0), thickness=2)\n",
    "    image_copy = cv2.line(image_copy, p4, p1, color=(255, 0, 0), thickness=2)\n",
    "    \n",
    "plt.imsave(\"testt.jpg\", image_copy)\n",
    "plt.imshow(image_copy)\n",
    "plt.show()"
   ]
  },
  {
   "cell_type": "code",
   "execution_count": 140,
   "metadata": {},
   "outputs": [
    {
     "name": "stdout",
     "output_type": "stream",
     "text": [
      "AxesImage(54,36;334.8x217.44)\n"
     ]
    },
    {
     "data": {
      "image/png": "[encoded data removed]",
      "text/plain": [
       "<Figure size 432x288 with 1 Axes>"
      ]
     },
     "metadata": {
      "needs_background": "light"
     },
     "output_type": "display_data"
    }
   ],
   "source": [
    "import cv2\n",
    "import pytesseract\n",
    "import matplotlib.pyplot as plt\n",
    "\n",
    "filename = 'aqa_m1_jan_2005_ms_page2.jpg'\n",
    "\n",
    "# read the image and get the dimensions\n",
    "img = cv2.imread(filename)\n",
    "h, w, _ = img.shape # assumes color image\n",
    "\n",
    "# run tesseract, returning the bounding boxes\n",
    "boxes = pytesseract.image_to_boxes(img)\n",
    "#print(pytesseract.image_to_string(img)) #print identified text\n",
    "\n",
    "# draw the bounding boxes on the image\n",
    "for b in boxes.splitlines():\n",
    "    b = b.split()\n",
    "    cv2.rectangle(img, ((int(b[1]), h - int(b[2]))), ((int(b[3]), h - int(b[4]))), (0, 255, 0), 2)\n",
    "\n",
    "plt.imsave(\"teest2.png\", img)\n",
    "print (plt.imshow(img))"
   ]
  },
  {
   "cell_type": "code",
   "execution_count": 155,
   "metadata": {},
   "outputs": [
    {
     "name": "stdout",
     "output_type": "stream",
     "text": [
      "     level  page_num  block_num  par_num  line_num  word_num  left   top  \\\n",
      "0        1         1          0        0         0         0     0     0   \n",
      "1        2         1          1        0         0         0    83   102   \n",
      "2        3         1          1        1         0         0    83   102   \n",
      "3        4         1          1        1         1         0    83   102   \n",
      "4        5         1          1        1         1         1    83   102   \n",
      "..     ...       ...        ...      ...       ...       ...   ...   ...   \n",
      "869      5         1        154        1         1         2   199  2251   \n",
      "870      5         1        154        1         1         3   250  2251   \n",
      "871      5         1        154        1         1         4   305  2251   \n",
      "872      5         1        154        1         1         5   340  2251   \n",
      "873      5         1        154        1         1         6   371  2251   \n",
      "\n",
      "     width  height  conf        text  \n",
      "0     1653    2339    -1         NaN  \n",
      "1      147      22    -1         NaN  \n",
      "2      147      22    -1         NaN  \n",
      "3      147      22    -1         NaN  \n",
      "4       56      22    20        Melk  \n",
      "..     ...     ...   ...         ...  \n",
      "869     52      47    75        2008  \n",
      "870     52      47    65         BOA  \n",
      "871     32      47    35         Bia  \n",
      "872     32      47    31          WS  \n",
      "873     91      47     0  lioenBtics  \n",
      "\n",
      "[874 rows x 12 columns]\n"
     ]
    }
   ],
   "source": [
    "from pytesseract import pytesseract as pt\n",
    "ret = pt.image_to_data('teest2.png',output_type='data.frame' )\n",
    "print (ret)\n",
    "\n",
    "\n",
    "ret = ret.drop(columns=['level','page_num', 'block_num', 'par_num', 'line_num', 'word_num'])\n",
    "\n",
    "ret = ret.sort_values(by=['text'], ascending=True)    \n",
    "    \n",
    "ret.to_csv('/Users/rishabharora/BRAINY BUNNY/2testtt.csv', index=False)"
   ]
  },
  {
   "cell_type": "code",
   "execution_count": 151,
   "metadata": {},
   "outputs": [
    {
     "data": {
      "text/html": [
       "<div>\n",
       "<style scoped>\n",
       "    .dataframe tbody tr th:only-of-type {\n",
       "        vertical-align: middle;\n",
       "    }\n",
       "\n",
       "    .dataframe tbody tr th {\n",
       "        vertical-align: top;\n",
       "    }\n",
       "\n",
       "    .dataframe thead th {\n",
       "        text-align: right;\n",
       "    }\n",
       "</style>\n",
       "<table border=\"1\" class=\"dataframe\">\n",
       "  <thead>\n",
       "    <tr style=\"text-align: right;\">\n",
       "      <th></th>\n",
       "      <th>left</th>\n",
       "      <th>top</th>\n",
       "      <th>width</th>\n",
       "      <th>height</th>\n",
       "      <th>conf</th>\n",
       "      <th>text</th>\n",
       "    </tr>\n",
       "  </thead>\n",
       "  <tbody>\n",
       "    <tr>\n",
       "      <td>0</td>\n",
       "      <td>80</td>\n",
       "      <td>136</td>\n",
       "      <td>1498</td>\n",
       "      <td>8</td>\n",
       "      <td>95</td>\n",
       "      <td></td>\n",
       "    </tr>\n",
       "    <tr>\n",
       "      <td>1</td>\n",
       "      <td>232</td>\n",
       "      <td>235</td>\n",
       "      <td>8</td>\n",
       "      <td>1797</td>\n",
       "      <td>95</td>\n",
       "      <td></td>\n",
       "    </tr>\n",
       "    <tr>\n",
       "      <td>2</td>\n",
       "      <td>784</td>\n",
       "      <td>235</td>\n",
       "      <td>7</td>\n",
       "      <td>1797</td>\n",
       "      <td>95</td>\n",
       "      <td></td>\n",
       "    </tr>\n",
       "    <tr>\n",
       "      <td>3</td>\n",
       "      <td>902</td>\n",
       "      <td>235</td>\n",
       "      <td>7</td>\n",
       "      <td>1797</td>\n",
       "      <td>95</td>\n",
       "      <td></td>\n",
       "    </tr>\n",
       "    <tr>\n",
       "      <td>4</td>\n",
       "      <td>1571</td>\n",
       "      <td>235</td>\n",
       "      <td>8</td>\n",
       "      <td>1797</td>\n",
       "      <td>95</td>\n",
       "      <td></td>\n",
       "    </tr>\n",
       "  </tbody>\n",
       "</table>\n",
       "</div>"
      ],
      "text/plain": [
       "   left  top  width  height  conf text\n",
       "0    80  136   1498       8    95     \n",
       "1   232  235      8    1797    95     \n",
       "2   784  235      7    1797    95     \n",
       "3   902  235      7    1797    95     \n",
       "4  1571  235      8    1797    95     "
      ]
     },
     "execution_count": 151,
     "metadata": {},
     "output_type": "execute_result"
    }
   ],
   "source": [
    "# Load the Pandas libraries with alias 'pd' \n",
    "import pandas as pd \n",
    "data = pd.read_csv(\"2testtt.csv\") \n",
    "# Preview the first 5 lines of the loaded data \n",
    "data.head()"
   ]
  },
  {
   "cell_type": "code",
   "execution_count": 265,
   "metadata": {
    "scrolled": true
   },
   "outputs": [
    {
     "name": "stdout",
     "output_type": "stream",
     "text": [
      "     left   top  width  height               text\n",
      "8     813   198     13      20                  3\n",
      "16    488   291    121      23             —6x+11\n",
      "20   1311   291     22      27                 (2\n",
      "22    205   292     15      20                  4\n",
      "25   1081   356     29      28                 x2\n",
      "38   1188   363     55      23                +11\n",
      "47   1311   399     22      27                 (2\n",
      "56    781   471     70      23               +11.\n",
      "70   1311   544     22      27                 (2\n",
      "91   1311   652     22      27                 (3\n",
      "110   528   760     23      21                 11\n",
      "113  1311   760     22      27                 (3\n",
      "135   807   958     43      30                4x?\n",
      "137   891   967     28      21                 3x\n",
      "138   961   967     25      21                 18\n",
      "157  1333  1038     55      23                +1.\n",
      "161  1311  1074     22      27                 (2\n",
      "163   867  1140     13      39                  3\n",
      "177  1311  1146     22      27                 (2\n",
      "191  1311  1218     22      27                 (3\n",
      "196   799  1283     27      28                 x3\n",
      "197   868  1283     42      28                4x?\n",
      "205   951  1290     28      21                 3x\n",
      "206  1021  1290     38      26                18,\n",
      "221  1311  1326     22      27                 (3\n",
      "253   842  1549     58      53                6x2\n",
      "257   757  1559    191      31               10x4\n",
      "262   791  1653     52      31               P(1,\n",
      "263   856  1653     23      31                 4)\n",
      "293  1311  1763     22      27                 (3\n",
      "316   214  2188     44      18                 03\n",
      "320  1256  2195    189      19  P56476/Jan13/MPC1\n",
      "Int64Index([], dtype='int64')\n"
     ]
    }
   ],
   "source": [
    "import pandas as pd\n",
    "\n",
    "df = pd.read_csv(\"try3.csv\", usecols = [\"left\",'top','width','height',\"text\"])\n",
    "q1 = df[df['text'].str.contains('1|2|3|4', na = False, case=True, regex=True)]\n",
    "print (q1)\n",
    "\n",
    "a = df.index[df.text == '2']\n",
    "print (a)\n",
    "\n"
   ]
  },
  {
   "cell_type": "code",
   "execution_count": 262,
   "metadata": {},
   "outputs": [
    {
     "name": "stdout",
     "output_type": "stream",
     "text": [
      "Empty DataFrame\n",
      "Columns: [left, top, width, height, text]\n",
      "Index: []\n"
     ]
    }
   ],
   "source": [
    "df = pd.read_csv(\"page1.csv\", usecols = [\"left\",'top','width','height',\"text\"])\n",
    "t2 = df[df['text'].str.contains('20', regex=False, na=False)]\n",
    "print (t2)"
   ]
  },
  {
   "cell_type": "code",
   "execution_count": null,
   "metadata": {},
   "outputs": [],
   "source": []
  },
  {
   "cell_type": "code",
   "execution_count": null,
   "metadata": {},
   "outputs": [],
   "source": []
  },
  {
   "cell_type": "code",
   "execution_count": null,
   "metadata": {},
   "outputs": [],
   "source": []
  },
  {
   "cell_type": "code",
   "execution_count": null,
   "metadata": {},
   "outputs": [],
   "source": []
  },
  {
   "cell_type": "code",
   "execution_count": 230,
   "metadata": {},
   "outputs": [
    {
     "name": "stdout",
     "output_type": "stream",
     "text": [
      "edexcel_m1_jan_2012_qp\n",
      "edexcel_m1_jan_2012_ms\n"
     ]
    }
   ],
   "source": [
    "import os\n",
    "os.chdir(\"/Users/rishabharora/BRAINY BUNNY\")\n",
    "\n",
    "exam_board = 'edexcel_m1_'\n",
    "\n",
    "year = 'jan_2012_'\n",
    "\n",
    "paper = exam_board + year + 'qp'\n",
    "\n",
    "paper_ms = exam_board + year + 'ms'\n",
    "print (paper)\n",
    "print (paper_ms)"
   ]
  },
  {
   "cell_type": "code",
   "execution_count": 231,
   "metadata": {},
   "outputs": [],
   "source": [
    "from pdf2image import convert_from_path\n",
    "\n",
    "pages = convert_from_path( paper +'.pdf', dpi=200)\n",
    "for idx,page in enumerate(pages):\n",
    "    page.save(paper + '_page'+str(idx) + '.jpg', 'JPEG')\n",
    "    \n",
    "page_idx = 0\n",
    "page = pages[page_idx]\n",
    "page.save(paper + '_cover.jpg', 'JPEG')"
   ]
  },
  {
   "cell_type": "code",
   "execution_count": 232,
   "metadata": {},
   "outputs": [],
   "source": [
    "pages_ms = convert_from_path( paper_ms +'.pdf', dpi=200)\n",
    "for idx,page in enumerate(pages_ms):\n",
    "    page.save(paper_ms + '_page'+str(idx) + '.jpg', 'JPEG')\n",
    "    \n",
    "page_idx_ms = 0\n",
    "page_ms = pages_ms[page_idx_ms]\n",
    "page.save(paper + '_cover.jpg', 'JPEG')"
   ]
  },
  {
   "cell_type": "code",
   "execution_count": 233,
   "metadata": {},
   "outputs": [
    {
     "name": "stdout",
     "output_type": "stream",
     "text": [
      "14\n",
      "[0, 1, 2, 3, 4, 5, 6, 7, 8, 9, 10, 11, 12, 13]\n"
     ]
    }
   ],
   "source": [
    "from PyPDF2 import PdfFileReader\n",
    " \n",
    "pdf = PdfFileReader(open('/Users/rishabharora/BRAINY BUNNY/' + paper + '.pdf','rb'))\n",
    "total_pages = pdf.getNumPages()\n",
    "print (total_pages)\n",
    "\n",
    "total_pages_list = []\n",
    "\n",
    "for i in range(total_pages):\n",
    "    total_pages_list.append(i)\n",
    "print (total_pages_list)"
   ]
  },
  {
   "cell_type": "code",
   "execution_count": 234,
   "metadata": {},
   "outputs": [
    {
     "name": "stdout",
     "output_type": "stream",
     "text": [
      "14\n",
      "[0, 1, 2, 3, 4, 5, 6, 7, 8, 9, 10, 11, 12, 13]\n"
     ]
    }
   ],
   "source": [
    "from PyPDF2 import PdfFileReader\n",
    " \n",
    "pdf = PdfFileReader(open('/Users/rishabharora/BRAINY BUNNY/' + paper_ms + '.pdf','rb'))\n",
    "total_pages_ms = pdf.getNumPages()\n",
    "print (total_pages_ms)\n",
    "\n",
    "total_pages_list_ms = []\n",
    "\n",
    "for i in range(total_pages_ms):\n",
    "    total_pages_list_ms.append(i)\n",
    "print (total_pages_list_ms)"
   ]
  },
  {
   "cell_type": "code",
   "execution_count": 235,
   "metadata": {},
   "outputs": [
    {
     "name": "stdout",
     "output_type": "stream",
     "text": [
      "QP done\n"
     ]
    }
   ],
   "source": [
    "# Import libraries\n",
    "import pandas as pd\n",
    "import pytesseract as pt\n",
    "import pdf2image\n",
    "\n",
    "# Read a pdf file as image pages\n",
    "pages = pdf2image.convert_from_path(pdf_path='/Users/rishabharora/BRAINY BUNNY/' + paper + '.pdf', dpi=200, size=(1654,2340))\n",
    "\n",
    "# Convert a page to a data frame (page 0 (intro), --> 1,2,3...)\n",
    "\n",
    "for i in total_pages_list:\n",
    "    ds = pt.image_to_data(pages[i], lang='eng', nice=0, output_type='data.frame')\n",
    "    # Remove unnecessary columns in the data set\n",
    "    ds = ds.drop(columns=['level','page_num', 'block_num', 'par_num', 'line_num', 'word_num'])\n",
    "    # Sort data set top-to-down and left-to-right\n",
    "    ds = ds.sort_values(by=['text'], ascending=True)\n",
    "    # Create a bounding box around invoice number (Fakturanummer)\n",
    "    box = [825,220,990,260]\n",
    "    # Create a string\n",
    "    output = ''\n",
    "    # Loop data set and get contents inside the bounding box\n",
    "    for index, row in ds.iterrows():\n",
    "        xmin = row['left']\n",
    "        ymin = row['top']\n",
    "        xmax = row['left'] + row['width']\n",
    "        ymax = row['top'] + row['height']\n",
    "        if(xmin >= box[0] and ymin >= box[1] and xmax <= box[2] and ymax <= box[3]):\n",
    "            output += str(row['text'])\n",
    "    # Print contents\n",
    "    #print('Invoice number is: {0}'.format(output))\n",
    "\n",
    "    # Convert data frame to csv\n",
    "    ds.to_csv('/Users/rishabharora/BRAINY BUNNY/' + paper + '_page_' + str(i) +'.csv', index=False)\n",
    "\n",
    "print ('QP done')"
   ]
  },
  {
   "cell_type": "code",
   "execution_count": 236,
   "metadata": {},
   "outputs": [
    {
     "name": "stdout",
     "output_type": "stream",
     "text": [
      "MS done\n"
     ]
    }
   ],
   "source": [
    "# Import libraries\n",
    "import pandas as pd\n",
    "import pytesseract as pt\n",
    "import pdf2image\n",
    "\n",
    "# Read a pdf file as image pages\n",
    "pages_ms = pdf2image.convert_from_path(pdf_path='/Users/rishabharora/BRAINY BUNNY/' + paper_ms + '.pdf', dpi=200, size=(1654,2340))\n",
    "\n",
    "# Convert a page to a data frame (page 0 (intro), --> 1,2,3...)\n",
    "\n",
    "for i in total_pages_list_ms:\n",
    "    ds = pt.image_to_data(pages_ms[i], lang='eng', nice=0, output_type='data.frame')\n",
    "    # Remove unnecessary columns in the data set\n",
    "    ds = ds.drop(columns=['level','page_num', 'block_num', 'par_num', 'line_num', 'word_num'])\n",
    "    # Sort data set top-to-down and left-to-right\n",
    "    ds = ds.sort_values(by=['text'], ascending=True)\n",
    "    # Create a bounding box around invoice number (Fakturanummer)\n",
    "    box = [825,220,990,260]\n",
    "    # Create a string\n",
    "    output = ''\n",
    "    # Loop data set and get contents inside the bounding box\n",
    "    for index, row in ds.iterrows():\n",
    "        xmin = row['left']\n",
    "        ymin = row['top']\n",
    "        xmax = row['left'] + row['width']\n",
    "        ymax = row['top'] + row['height']\n",
    "        if(xmin >= box[0] and ymin >= box[1] and xmax <= box[2] and ymax <= box[3]):\n",
    "            output += row['text']\n",
    "    # Print contents\n",
    "    #print('Invoice number is: {0}'.format(output))\n",
    "\n",
    "    # Convert data frame to csv\n",
    "    ds.to_csv('/Users/rishabharora/BRAINY BUNNY/' + paper_ms + '_page_' + str(i) +'.csv', index=False)\n",
    "\n",
    "print ('MS done')"
   ]
  },
  {
   "cell_type": "code",
   "execution_count": 211,
   "metadata": {},
   "outputs": [],
   "source": [
    "os.chdir(\"/Users/rishabharora/BRAINY BUNNY\")\n",
    "\n",
    "actual_page = 11\n",
    "\n",
    "csv_file = paper + '_page_' + str(actual_page) +'.csv'\n",
    "\n",
    "question = ['1', '2', '3', '4', '5', '6', '7', '8', '9', '10']\n",
    "\n",
    "df = pd.read_csv(csv_file, usecols = [\"left\",'top','width','height',\"text\"])"
   ]
  },
  {
   "cell_type": "code",
   "execution_count": 212,
   "metadata": {},
   "outputs": [
    {
     "name": "stdout",
     "output_type": "stream",
     "text": [
      "2\n",
      "    left   top  width  height text\n",
      "23   161  2224     26      19   24\n",
      "32   144   173     31      40   7.\n"
     ]
    }
   ],
   "source": [
    "for i in question:\n",
    "    q1 = df[df['text'].str.contains(str(question), na=False)]\n",
    "    q2 = q1.loc[q1.left<200]\n",
    "    q3 = q2.loc[q2.left>100]\n",
    "\n",
    "print (len(q3))\n",
    "    \n",
    "print (q3)"
   ]
  },
  {
   "cell_type": "code",
   "execution_count": 213,
   "metadata": {},
   "outputs": [
    {
     "name": "stdout",
     "output_type": "stream",
     "text": [
      "    left  top  width  height text\n",
      "32   144  173     31      40   7.\n",
      "Point 1:  144\n",
      "Point 2:  173\n",
      "Point 3:  1623\n"
     ]
    }
   ],
   "source": [
    "os.chdir(\"/Users/rishabharora/BRAINY BUNNY\")\n",
    "\n",
    "this_question = 7\n",
    "\n",
    "q1 = df[df['text'].str.contains(str(this_question), na=False)]\n",
    "q2 = q1.loc[q1.left<200]\n",
    "q3 = q2.loc[q2.left>100]\n",
    "\n",
    "row = q3.index[0]\n",
    "\n",
    "print (q3)\n",
    "#print (row)\n",
    "\n",
    "left_point_1 = q3['left'][row]\n",
    "print ('Point 1: ',left_point_1)\n",
    "\n",
    "top_point1 = q3['top'][row]\n",
    "print ('Point 2: ',top_point1)\n",
    "\n",
    "from PIL import Image\n",
    "\n",
    "import numpy as np\n",
    "test = Image.open(paper + '_page'+ str(actual_page) + '.jpg')\n",
    "width_1 = test.size[0]\n",
    "height_1 = test.size[1]\n",
    "#print (width, height)\n",
    "\n",
    "print ('Point 3: ',width_1-30)"
   ]
  },
  {
   "cell_type": "code",
   "execution_count": 60,
   "metadata": {},
   "outputs": [
    {
     "name": "stdout",
     "output_type": "stream",
     "text": [
      "    left   top  width  height  text\n",
      "27   197  2225     36      12  2013\n",
      "27\n",
      "Point 4:  2225\n"
     ]
    }
   ],
   "source": [
    "next_question = this_question + 1\n",
    "\n",
    "q4 = df[df['text'].str.contains(str(next_question), na=False)]\n",
    "q5 = q4.loc[q4.left<200]\n",
    "q6 = q5.loc[q5.left>100]\n",
    "\n",
    "row2 = q6.index[0]\n",
    "\n",
    "print (q6)\n",
    "print (row2)\n",
    "\n",
    "left_point_2 = q6['top'][row2]\n",
    "print ('Point 4: ',left_point_2)\n",
    "\n",
    "from PIL import Image\n",
    "import matplotlib.pyplot as plt\n",
    "  \n",
    "# Opens a image in RGB mode \n",
    "im = Image.open(r'/Users/rishabharora/BRAINY BUNNY/'+ paper + '_page'+str(actual_page) + '.jpg') \n",
    "#im.show()\n",
    "  \n",
    "# Setting the points for cropped image \n",
    "\n",
    "left = left_point_1-20\n",
    "top = top_point1-40\n",
    "right = width_1 - left\n",
    "bottom = left_point_2 - 30\n",
    "\n",
    "# Cropped image of above dimension \n",
    "# (It will not change orginal image)\n",
    "\n",
    "im1 = im.crop((left, top, right, bottom))\n",
    "im1.save(paper + '_page_' + str(actual_page) + 'qp_' + str(this_question) + '.jpg')\n",
    "  \n",
    "# Shows the image in image viewer \n",
    "im1.show()"
   ]
  },
  {
   "cell_type": "code",
   "execution_count": 216,
   "metadata": {},
   "outputs": [
    {
     "name": "stdout",
     "output_type": "stream",
     "text": [
      "Point 4:  2116\n"
     ]
    }
   ],
   "source": [
    "#####Last question in page\n",
    "left_point_2 = height_1 - top_point1 - 50 \n",
    "print ('Point 4: ',left_point_2)\n",
    "\n",
    "###########LAST QUESTION######## \n",
    "\n",
    "from PIL import Image\n",
    "import matplotlib.pyplot as plt\n",
    "  \n",
    "# Opens a image in RGB mode \n",
    "im = Image.open(r'/Users/rishabharora/BRAINY BUNNY/'+ paper + '_page' + str(actual_page) + '.jpg') \n",
    "#im.show()\n",
    "  \n",
    "# Setting the points for cropped image \n",
    "\n",
    "left = left_point_1 - 20\n",
    "top = top_point1 - 40\n",
    "right = width_1 - left\n",
    "bottom = height_1 - 500\n",
    "\n",
    "# Cropped image of above dimension \n",
    "# (It will not change orginal image)\n",
    "\n",
    "im1 = im.crop((left, top, right, bottom))\n",
    "im1.save(paper + '_page_' + str(actual_page) + 'qp_' + str(this_question) + '.jpg')\n",
    "  \n",
    "# Shows the image in image viewer \n",
    "im1.show()"
   ]
  },
  {
   "cell_type": "code",
   "execution_count": 661,
   "metadata": {},
   "outputs": [],
   "source": []
  },
  {
   "cell_type": "code",
   "execution_count": 683,
   "metadata": {},
   "outputs": [],
   "source": []
  },
  {
   "cell_type": "code",
   "execution_count": 217,
   "metadata": {},
   "outputs": [],
   "source": [
    "import cv2\n",
    "import pytesseract\n",
    "\n",
    "image = cv2.imread(paper + '_page_' + str(actual_page) + 'qp_' + str(this_question) + '.jpg')\n",
    "# get the string\n",
    "mystring = pytesseract.image_to_string(image)\n",
    "# print it\n",
    "#print(mystring)"
   ]
  },
  {
   "cell_type": "code",
   "execution_count": 218,
   "metadata": {},
   "outputs": [
    {
     "name": "stdout",
     "output_type": "stream",
     "text": [
      "[33.33333333333333, 66.66666666666666, 140.0, 100.0, 40.0, 20.0]\n",
      "tension\n"
     ]
    }
   ],
   "source": [
    "aqa_m1_forces = ['force', 'resultant', 'magnitude']\n",
    "aqa_m1_momentum = ['particle', 'coalesce', 'collision', 'momentum', 'combined', 'strikes']\n",
    "aqa_m1_tension = ['string', 'pulley', 'inextensible', 'smooth', 'tension']\n",
    "aqa_m1_friction = ['coefficient', 'friction']\n",
    "aqa_m1_graphs = ['graph', 'vector', 'unit', 'point', 'sketch']\n",
    "aqa_m1_kinematics = ['speed', 'distance', 'projection', 'kinematics', 'velocity'] \n",
    "\n",
    "\n",
    "words_found_forces = []\n",
    "words_found_momentum = []\n",
    "words_found_tension = []\n",
    "words_found_friction = []\n",
    "words_found_graphs = []\n",
    "words_found_kinematics = []\n",
    "\n",
    "no = []\n",
    "yes = []\n",
    "\n",
    "for i in aqa_m1_forces:\n",
    "    a = mystring.count(i)\n",
    "    words_found_forces.append(a)\n",
    "    sum_forces = sum(words_found_forces)\n",
    "    percentage_forces = (sum_forces/len(aqa_m1_forces))*100\n",
    "\n",
    "    \n",
    "for p in aqa_m1_momentum:\n",
    "    b = mystring.count(p)\n",
    "    words_found_momentum.append(b)\n",
    "    sum_momentum = sum(words_found_momentum)\n",
    "    percentage_momentum = (sum_momentum/len(aqa_m1_momentum))*100\n",
    "    if b == 0:\n",
    "        no.append(p)\n",
    "    else:\n",
    "        yes.append(p)\n",
    "    \n",
    "for i in aqa_m1_tension:\n",
    "    c = mystring.count(i)\n",
    "    words_found_tension.append(c)\n",
    "    sum_tension = sum(words_found_tension)\n",
    "    percentage_tension = (sum_tension/len(aqa_m1_tension))*100\n",
    "    \n",
    "for i in aqa_m1_friction:\n",
    "    d = mystring.count(i)\n",
    "    words_found_friction.append(d)\n",
    "    sum_friction = sum(words_found_friction)\n",
    "    percentage_friction = (sum_friction/len(aqa_m1_friction))*100\n",
    "\n",
    "\n",
    "for i in aqa_m1_graphs:\n",
    "    e = mystring.count(i)\n",
    "    words_found_graphs.append(e)\n",
    "    sum_graphs = sum(words_found_graphs)\n",
    "    percentage_graphs = (sum_graphs/len(aqa_m1_graphs))*100\n",
    "\n",
    "for i in aqa_m1_kinematics:\n",
    "    f = mystring.count(i)\n",
    "    words_found_kinematics.append(f)\n",
    "    sum_kinematics = sum(words_found_kinematics)\n",
    "    percentage_kinematics = (sum_kinematics/len(aqa_m1_kinematics))*100\n",
    "    \n",
    "    \n",
    "#print (percentage_forces)\n",
    "#print (percentage_momentum)\n",
    "#print (percentage_tension)\n",
    "\n",
    "\n",
    "#print ('no',no)\n",
    "#print ('yes',yes)\n",
    "\n",
    "topics = ['forces', 'momentum', 'tension', 'friction', 'graphs', 'kinematics']\n",
    "percentages = []\n",
    "\n",
    "percentages.append(percentage_forces)\n",
    "percentages.append(percentage_momentum)\n",
    "percentages.append(percentage_tension)\n",
    "percentages.append(percentage_friction)\n",
    "percentages.append(percentage_graphs)\n",
    "percentages.append(percentage_kinematics)\n",
    "\n",
    "\n",
    "print (percentages)\n",
    "\n",
    "best_match = max(percentages)\n",
    "position = percentages.index(best_match)\n",
    "#print (position)\n",
    "\n",
    "for i in topics:\n",
    "    topic = topics[position]\n",
    "print (topic)"
   ]
  },
  {
   "cell_type": "code",
   "execution_count": 219,
   "metadata": {},
   "outputs": [
    {
     "name": "stdout",
     "output_type": "stream",
     "text": [
      "1\n"
     ]
    }
   ],
   "source": [
    "import glob, os\n",
    "os.chdir(\"/Users/rishabharora/BRAINY BUNNY/Edexcel M1\")\n",
    "\n",
    "exam_board = 'Edexcel_M1_'\n",
    "\n",
    "sub_text_options = ['Forces_', 'Momentum_', 'Tension_', 'Friction_', 'Graphs_', 'Kinematics_']\n",
    "\n",
    "sub_text = sub_text_options[position]\n",
    "\n",
    "title = exam_board + sub_text + 'qp'\n",
    "\n",
    "files = []\n",
    "\n",
    "for file in glob.glob(title + '*.png'):\n",
    "    files.append(files)\n",
    "\n",
    "number = len(files)\n",
    "\n",
    "new_number = number+1\n",
    "\n",
    "print (new_number)"
   ]
  },
  {
   "cell_type": "code",
   "execution_count": 220,
   "metadata": {},
   "outputs": [],
   "source": [
    "import os \n",
    "\n",
    "os.chdir(\"/Users/rishabharora/BRAINY BUNNY\")\n",
    "\n",
    "for file in os.listdir():\n",
    "    src=file\n",
    "    if src == paper + '_page_' + str(actual_page) + 'qp_' + str(this_question) + '.jpg':\n",
    "        dst = exam_board + sub_text + 'qp_' + str(new_number) + '.png'\n",
    "        os.rename(src,dst)"
   ]
  },
  {
   "cell_type": "code",
   "execution_count": null,
   "metadata": {},
   "outputs": [],
   "source": []
  },
  {
   "cell_type": "code",
   "execution_count": null,
   "metadata": {},
   "outputs": [],
   "source": []
  },
  {
   "cell_type": "code",
   "execution_count": 1459,
   "metadata": {},
   "outputs": [],
   "source": [
    "############ MAKE MS NOW ######"
   ]
  },
  {
   "cell_type": "code",
   "execution_count": 221,
   "metadata": {},
   "outputs": [],
   "source": [
    "## Renaming MS \n",
    "\n",
    "os.chdir(\"/Users/rishabharora/BRAINY BUNNY\")\n",
    "\n",
    "actual_page = 7\n",
    "\n",
    "csv_file_ms = paper_ms + '_page_' + str(actual_page) +'.csv'\n",
    "\n",
    "question = ['1', '2', '3', '4', '5', '6', '7', '8', '9', '10']\n",
    "\n",
    "df = pd.read_csv(csv_file_ms, usecols = [\"left\",'top','width','height',\"text\"])\n"
   ]
  },
  {
   "cell_type": "code",
   "execution_count": 222,
   "metadata": {},
   "outputs": [
    {
     "name": "stdout",
     "output_type": "stream",
     "text": [
      "    left   top  width  height   text\n",
      "40   121   208     54      27  6.(a)\n",
      "43   121  1052     54      27    7a)\n"
     ]
    }
   ],
   "source": [
    "for i in question:\n",
    "    q1 = df[df['text'].str.contains(str(question), na=False)]\n",
    "    q2 = q1.loc[q1.left<200]\n",
    "    q3 = q2.loc[q2.left>100]\n",
    "    \n",
    "#print (len(q3))\n",
    "    \n",
    "print (q3)"
   ]
  },
  {
   "cell_type": "code",
   "execution_count": 223,
   "metadata": {},
   "outputs": [
    {
     "name": "stdout",
     "output_type": "stream",
     "text": [
      "    left   top  width  height text\n",
      "43   121  1052     54      27  7a)\n",
      "Point 1:  121\n",
      "Point 2:  1052\n",
      "Point 3:  1653\n"
     ]
    }
   ],
   "source": [
    "#this_question = 7\n",
    "\n",
    "q1 = df[df['text'].str.contains(str(this_question), na=False)]\n",
    "q2 = q1.loc[q1.left<200]\n",
    "q3 = q2.loc[q2.left>100]\n",
    "\n",
    "row = q3.index[0]\n",
    "\n",
    "print (q3)\n",
    "#print (row)\n",
    "\n",
    "left_point_1 = q3['left'][row]\n",
    "print ('Point 1: ',left_point_1)\n",
    "\n",
    "top_point1 = q3['top'][row]\n",
    "print ('Point 2: ',top_point1)\n",
    "\n",
    "from PIL import Image\n",
    "\n",
    "import numpy as np\n",
    "test = Image.open(paper_ms + '_page'+ str(actual_page) + '.jpg')\n",
    "width_1 = test.size[0]\n",
    "height_1 = test.size[1]\n",
    "#print (width, height)\n",
    "\n",
    "print ('Point 3: ',width_1)"
   ]
  },
  {
   "cell_type": "code",
   "execution_count": 205,
   "metadata": {},
   "outputs": [
    {
     "name": "stdout",
     "output_type": "stream",
     "text": [
      "    left   top  width  height text\n",
      "43   121  1052     54      27  7a)\n",
      "43\n",
      "Point 4:  1052\n",
      "1052\n"
     ]
    }
   ],
   "source": [
    "next_question = this_question + 1\n",
    "\n",
    "q4 = df[df['text'].str.contains(str(next_question), na=False)]\n",
    "q5 = q4.loc[q4.left<200]\n",
    "q6 = q5.loc[q5.left>100]\n",
    "\n",
    "row2 = q6.index[0]\n",
    "\n",
    "print (q6)\n",
    "print (row2)\n",
    "\n",
    "left_point_2 = q6['top'][row2]\n",
    "print ('Point 4: ',left_point_2)\n",
    "\n",
    "print (left_point_2)\n",
    "\n",
    "from PIL import Image\n",
    "import matplotlib.pyplot as plt\n",
    "  \n",
    "# Opens a image in RGB mode \n",
    "im = Image.open(r'/Users/rishabharora/BRAINY BUNNY/'+ paper_ms + '_page'+ str(actual_page) + '.jpg') \n",
    "#im.show()\n",
    "  \n",
    "# Setting the points for cropped image \n",
    "\n",
    "left = left_point_1-10\n",
    "top = top_point1 - 30\n",
    "right = width_1 \n",
    "bottom = left_point_2\n",
    "\n",
    "# Cropped image of above dimension \n",
    "# (It will not change orginal image)\n",
    "\n",
    "im1 = im.crop((left, top, right, bottom))\n",
    "im1.save(paper + '_page_' + str(actual_page) + 'ms_' + str(this_question) + '.jpg')\n",
    "  \n",
    "# Shows the image in image viewer \n",
    "im1.show()"
   ]
  },
  {
   "cell_type": "code",
   "execution_count": 225,
   "metadata": {},
   "outputs": [
    {
     "name": "stdout",
     "output_type": "stream",
     "text": [
      "Point 4:  1237\n"
     ]
    }
   ],
   "source": [
    "#####Last question in page\n",
    "left_point_2 = height_1 - top_point1 - 50 \n",
    "print ('Point 4: ',left_point_2)\n",
    "\n",
    "###########LAST QUESTION######## \n",
    "\n",
    "from PIL import Image\n",
    "import matplotlib.pyplot as plt\n",
    "  \n",
    "# Opens a image in RGB mode \n",
    "im = Image.open(r'/Users/rishabharora/BRAINY BUNNY/'+ paper_ms + '_page' + str(actual_page) + '.jpg') \n",
    "#im.show()\n",
    "  \n",
    "# Setting the points for cropped image \n",
    "\n",
    "left = left_point_1-20\n",
    "top = top_point1- 15\n",
    "right = width_1 - left\n",
    "bottom = height_1 - 200\n",
    "\n",
    "# Cropped image of above dimension \n",
    "# (It will not change orginal image)\n",
    "\n",
    "im1 = im.crop((left, top, right, bottom))\n",
    "im1.save(paper + '_page_' + str(actual_page) + 'ms_' + str(this_question) + '.jpg')\n",
    "  \n",
    "# Shows the image in image viewer \n",
    "im1.show()"
   ]
  },
  {
   "cell_type": "code",
   "execution_count": null,
   "metadata": {},
   "outputs": [],
   "source": []
  },
  {
   "cell_type": "code",
   "execution_count": 693,
   "metadata": {},
   "outputs": [],
   "source": []
  },
  {
   "cell_type": "code",
   "execution_count": 226,
   "metadata": {},
   "outputs": [],
   "source": [
    "import os \n",
    "\n",
    "for file in os.listdir():\n",
    "    src=file\n",
    "    if src == paper + '_page_' + str(actual_page) + 'ms_' + str(this_question) + '.jpg':\n",
    "        dst_ms = exam_board + sub_text + 'ms_' + str(new_number) + '.png'\n",
    "        os.rename(src,dst_ms)"
   ]
  },
  {
   "cell_type": "code",
   "execution_count": 227,
   "metadata": {},
   "outputs": [],
   "source": [
    "from pathlib import Path\n",
    "\n",
    "Path(\"/Users/rishabharora/BRAINY BUNNY/\" + dst).rename(\"/Users/rishabharora/BRAINY BUNNY/Edexcel M1/\" + dst)\n",
    "\n",
    "Path(\"/Users/rishabharora/BRAINY BUNNY/\" + dst_ms).rename(\"/Users/rishabharora/BRAINY BUNNY/Edexcel M1/\" + dst_ms)"
   ]
  },
  {
   "cell_type": "code",
   "execution_count": 228,
   "metadata": {},
   "outputs": [
    {
     "name": "stdout",
     "output_type": "stream",
     "text": [
      "Kinematics questions:  1\n",
      "Forces questions:  1\n",
      "Tension questions:  1\n",
      "Friction questions:  1\n",
      "Graphs questions:  1\n",
      "Momentum questions:  1\n",
      "TOTAL:  6.0\n"
     ]
    }
   ],
   "source": [
    "os.chdir(\"/Users/rishabharora/BRAINY BUNNY/Edexcel M1\")\n",
    "\n",
    "sub_text_options = ['Forces_', 'Momentum_', 'Tension_', 'Friction_', 'Graphs_', 'Kinematics_']\n",
    "\n",
    "kinematics_aqa = sorted(list(glob.glob(os.path.join('Edexcel_M1_Kinematics_qp*.png'))))\n",
    "print ('Kinematics questions: ',len(sorted((kinematics_aqa))))\n",
    "\n",
    "forces_aqa = sorted(list(glob.glob(os.path.join('Edexcel_M1_Forces_qp*.png'))))\n",
    "print ('Forces questions: ',len(sorted((forces_aqa))))\n",
    "\n",
    "Tension_aqa = sorted(list(glob.glob(os.path.join('Edexcel_M1_Tension_qp*.png'))))\n",
    "print ('Tension questions: ',len(sorted((Tension_aqa))))\n",
    "\n",
    "Friction_aqa = sorted(list(glob.glob(os.path.join('Edexcel_M1_Friction_qp*.png'))))\n",
    "print ('Friction questions: ',len(sorted((Friction_aqa))))\n",
    "\n",
    "Graphs_aqa = sorted(list(glob.glob(os.path.join('Edexcel_M1_Graphs_qp*.png'))))\n",
    "print ('Graphs questions: ',len(sorted((Graphs_aqa))))\n",
    "\n",
    "Momentum_aqa = sorted(list(glob.glob(os.path.join('Edexcel_M1_Momentum_qp*.png'))))\n",
    "print ('Momentum questions: ',len(sorted((Momentum_aqa))))\n",
    "\n",
    "total = list(glob.glob(os.path.join('*.png')))\n",
    "print ('TOTAL: ',len(total)/2)"
   ]
  },
  {
   "cell_type": "code",
   "execution_count": 172,
   "metadata": {},
   "outputs": [
    {
     "name": "stdout",
     "output_type": "stream",
     "text": [
      "['Edexcel_M1_Momentum_qp_1.png']\n"
     ]
    }
   ],
   "source": [
    "Momentum_aqa = sorted(list(glob.glob(os.path.join('Edexcel_M1_Momentum_qp*.png'))))\n",
    "print (Momentum_aqa)"
   ]
  },
  {
   "cell_type": "code",
   "execution_count": null,
   "metadata": {},
   "outputs": [],
   "source": []
  }
 ],
 "metadata": {
  "kernelspec": {
   "display_name": "Python 3",
   "language": "python",
   "name": "python3"
  },
  "language_info": {
   "codemirror_mode": {
    "name": "ipython",
    "version": 3
   },
   "file_extension": ".py",
   "mimetype": "text/x-python",
   "name": "python",
   "nbconvert_exporter": "python",
   "pygments_lexer": "ipython3",
   "version": "3.7.4"
  }
 },
 "nbformat": 4,
 "nbformat_minor": 2
}
